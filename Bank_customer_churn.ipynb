{
 "cells": [
  {
   "cell_type": "markdown",
   "metadata": {},
   "source": [
    "# Machine Learning Model: Which Beta Bank customers are looking to switch banks?\n",
    "\n",
    "Beta bank is facing challenges when it comes to customer retention. Rather than investing in attracting new customers, the bank thinks the best way forward is to try and retain existing customers.\n",
    "\n",
    "In this project we will attempt to use the principles of supervised machine learning to identify customers who plan to leave Beta Bank in the near future.\n",
    "\n",
    "To train our model, we have customer data which also includes data from customers who have already left(exited).\n",
    "\n",
    "For this project it is important that the model selected has the highest F1 score, with a minimum F1 score of 0.59.\n",
    "\n",
    "The F1 score is the harmonic mean of recall and precision. Recall indicates how well the model is able to recognize the class while precision is a measure of how often it misidentifies another class as the class of interest. F1 score is a way to control precision and recall simultaneously and as the two values increase, F1 approaches 1.\n",
    "\n",
    "The project will proceed in three stages.\n",
    "\n",
    "1. We will process the data and examine the distribution of the classes of interest (exited versus retained customers). Other patterns of interest in the data will also be examined.\n",
    "\n",
    "2. We will split the data into training, validation and test sets in a 3:1:1 ratio. We will then train logical regression, decision tree and random forest models on the training set with and without taking class imbalance into account. At least two different methods to address class imbalance will be used to find the best approach.\n",
    "\n",
    "3. We will perform a few sanity checks on the model and then run a final test to see how it does on the test set."
   ]
  },
  {
   "cell_type": "code",
   "execution_count": 33,
   "metadata": {
    "scrolled": true
   },
   "outputs": [],
   "source": [
    "#importing required libraries\n",
    "import pandas as pd\n",
    "import numpy as np\n",
    "from scipy import stats as st\n",
    "from scipy.stats import randint\n",
    "import seaborn as sns\n",
    "from matplotlib import pyplot as plt\n",
    "import plotly as py\n",
    "import plotly.express as px\n",
    "from sklearn.tree import DecisionTreeClassifier\n",
    "from sklearn.ensemble import RandomForestClassifier\n",
    "from sklearn.linear_model import LogisticRegression\n",
    "from sklearn.metrics import accuracy_score\n",
    "from sklearn.model_selection import train_test_split\n",
    "from sklearn.model_selection import RandomizedSearchCV\n",
    "from sklearn.model_selection import GridSearchCV\n",
    "from sklearn.experimental import enable_iterative_imputer\n",
    "from sklearn.impute import IterativeImputer\n",
    "from sklearn.ensemble import ExtraTreesRegressor\n",
    "from sklearn.preprocessing import StandardScaler\n",
    "from sklearn.metrics import f1_score\n",
    "from sklearn.utils import shuffle"
   ]
  },
  {
   "cell_type": "code",
   "execution_count": 2,
   "metadata": {},
   "outputs": [
    {
     "name": "stdout",
     "output_type": "stream",
     "text": [
      "<class 'pandas.core.frame.DataFrame'>\n",
      "RangeIndex: 10000 entries, 0 to 9999\n",
      "Data columns (total 14 columns):\n",
      " #   Column           Non-Null Count  Dtype  \n",
      "---  ------           --------------  -----  \n",
      " 0   RowNumber        10000 non-null  int64  \n",
      " 1   CustomerId       10000 non-null  int64  \n",
      " 2   Surname          10000 non-null  object \n",
      " 3   CreditScore      10000 non-null  int64  \n",
      " 4   Geography        10000 non-null  object \n",
      " 5   Gender           10000 non-null  object \n",
      " 6   Age              10000 non-null  int64  \n",
      " 7   Tenure           9091 non-null   float64\n",
      " 8   Balance          10000 non-null  float64\n",
      " 9   NumOfProducts    10000 non-null  int64  \n",
      " 10  HasCrCard        10000 non-null  int64  \n",
      " 11  IsActiveMember   10000 non-null  int64  \n",
      " 12  EstimatedSalary  10000 non-null  float64\n",
      " 13  Exited           10000 non-null  int64  \n",
      "dtypes: float64(3), int64(8), object(3)\n",
      "memory usage: 1.1+ MB\n"
     ]
    },
    {
     "data": {
      "text/html": [
       "<div>\n",
       "<style scoped>\n",
       "    .dataframe tbody tr th:only-of-type {\n",
       "        vertical-align: middle;\n",
       "    }\n",
       "\n",
       "    .dataframe tbody tr th {\n",
       "        vertical-align: top;\n",
       "    }\n",
       "\n",
       "    .dataframe thead th {\n",
       "        text-align: right;\n",
       "    }\n",
       "</style>\n",
       "<table border=\"1\" class=\"dataframe\">\n",
       "  <thead>\n",
       "    <tr style=\"text-align: right;\">\n",
       "      <th></th>\n",
       "      <th>RowNumber</th>\n",
       "      <th>CustomerId</th>\n",
       "      <th>Surname</th>\n",
       "      <th>CreditScore</th>\n",
       "      <th>Geography</th>\n",
       "      <th>Gender</th>\n",
       "      <th>Age</th>\n",
       "      <th>Tenure</th>\n",
       "      <th>Balance</th>\n",
       "      <th>NumOfProducts</th>\n",
       "      <th>HasCrCard</th>\n",
       "      <th>IsActiveMember</th>\n",
       "      <th>EstimatedSalary</th>\n",
       "      <th>Exited</th>\n",
       "    </tr>\n",
       "  </thead>\n",
       "  <tbody>\n",
       "    <tr>\n",
       "      <th>0</th>\n",
       "      <td>1</td>\n",
       "      <td>15634602</td>\n",
       "      <td>Hargrave</td>\n",
       "      <td>619</td>\n",
       "      <td>France</td>\n",
       "      <td>Female</td>\n",
       "      <td>42</td>\n",
       "      <td>2.0</td>\n",
       "      <td>0.00</td>\n",
       "      <td>1</td>\n",
       "      <td>1</td>\n",
       "      <td>1</td>\n",
       "      <td>101348.88</td>\n",
       "      <td>1</td>\n",
       "    </tr>\n",
       "    <tr>\n",
       "      <th>1</th>\n",
       "      <td>2</td>\n",
       "      <td>15647311</td>\n",
       "      <td>Hill</td>\n",
       "      <td>608</td>\n",
       "      <td>Spain</td>\n",
       "      <td>Female</td>\n",
       "      <td>41</td>\n",
       "      <td>1.0</td>\n",
       "      <td>83807.86</td>\n",
       "      <td>1</td>\n",
       "      <td>0</td>\n",
       "      <td>1</td>\n",
       "      <td>112542.58</td>\n",
       "      <td>0</td>\n",
       "    </tr>\n",
       "    <tr>\n",
       "      <th>2</th>\n",
       "      <td>3</td>\n",
       "      <td>15619304</td>\n",
       "      <td>Onio</td>\n",
       "      <td>502</td>\n",
       "      <td>France</td>\n",
       "      <td>Female</td>\n",
       "      <td>42</td>\n",
       "      <td>8.0</td>\n",
       "      <td>159660.80</td>\n",
       "      <td>3</td>\n",
       "      <td>1</td>\n",
       "      <td>0</td>\n",
       "      <td>113931.57</td>\n",
       "      <td>1</td>\n",
       "    </tr>\n",
       "    <tr>\n",
       "      <th>3</th>\n",
       "      <td>4</td>\n",
       "      <td>15701354</td>\n",
       "      <td>Boni</td>\n",
       "      <td>699</td>\n",
       "      <td>France</td>\n",
       "      <td>Female</td>\n",
       "      <td>39</td>\n",
       "      <td>1.0</td>\n",
       "      <td>0.00</td>\n",
       "      <td>2</td>\n",
       "      <td>0</td>\n",
       "      <td>0</td>\n",
       "      <td>93826.63</td>\n",
       "      <td>0</td>\n",
       "    </tr>\n",
       "    <tr>\n",
       "      <th>4</th>\n",
       "      <td>5</td>\n",
       "      <td>15737888</td>\n",
       "      <td>Mitchell</td>\n",
       "      <td>850</td>\n",
       "      <td>Spain</td>\n",
       "      <td>Female</td>\n",
       "      <td>43</td>\n",
       "      <td>2.0</td>\n",
       "      <td>125510.82</td>\n",
       "      <td>1</td>\n",
       "      <td>1</td>\n",
       "      <td>1</td>\n",
       "      <td>79084.10</td>\n",
       "      <td>0</td>\n",
       "    </tr>\n",
       "  </tbody>\n",
       "</table>\n",
       "</div>"
      ],
      "text/plain": [
       "   RowNumber  CustomerId   Surname  CreditScore Geography  Gender  Age  \\\n",
       "0          1    15634602  Hargrave          619    France  Female   42   \n",
       "1          2    15647311      Hill          608     Spain  Female   41   \n",
       "2          3    15619304      Onio          502    France  Female   42   \n",
       "3          4    15701354      Boni          699    France  Female   39   \n",
       "4          5    15737888  Mitchell          850     Spain  Female   43   \n",
       "\n",
       "   Tenure    Balance  NumOfProducts  HasCrCard  IsActiveMember  \\\n",
       "0     2.0       0.00              1          1               1   \n",
       "1     1.0   83807.86              1          0               1   \n",
       "2     8.0  159660.80              3          1               0   \n",
       "3     1.0       0.00              2          0               0   \n",
       "4     2.0  125510.82              1          1               1   \n",
       "\n",
       "   EstimatedSalary  Exited  \n",
       "0        101348.88       1  \n",
       "1        112542.58       0  \n",
       "2        113931.57       1  \n",
       "3         93826.63       0  \n",
       "4         79084.10       0  "
      ]
     },
     "metadata": {},
     "output_type": "display_data"
    }
   ],
   "source": [
    "#loading the data and examining it\n",
    "data = pd.read_csv('/datasets/Churn.csv')\n",
    "data.info()\n",
    "display(data.head())"
   ]
  },
  {
   "cell_type": "markdown",
   "metadata": {},
   "source": [
    "There are 10000 rows of data spread across 13 columns. The data types assigned are mostly correct. Tenure could be changed to int type since they are the number of years. It would also make sense to make all the column headers in lower case for ease of later processing. There is not a lot of missing data, the only column that has missing data is Tenure where the missing data comprises less than 10% of the entire set. We could use regression to predict the values and fill it in or just fill it with the median based on the distribution of the data. It could also be that this represents users who have been at the bank for less than a year, which would mean the value is actually zero. "
   ]
  },
  {
   "cell_type": "code",
   "execution_count": 3,
   "metadata": {},
   "outputs": [
    {
     "data": {
      "text/html": [
       "<div>\n",
       "<style scoped>\n",
       "    .dataframe tbody tr th:only-of-type {\n",
       "        vertical-align: middle;\n",
       "    }\n",
       "\n",
       "    .dataframe tbody tr th {\n",
       "        vertical-align: top;\n",
       "    }\n",
       "\n",
       "    .dataframe thead th {\n",
       "        text-align: right;\n",
       "    }\n",
       "</style>\n",
       "<table border=\"1\" class=\"dataframe\">\n",
       "  <thead>\n",
       "    <tr style=\"text-align: right;\">\n",
       "      <th></th>\n",
       "      <th>RowNumber</th>\n",
       "      <th>CustomerId</th>\n",
       "      <th>Surname</th>\n",
       "      <th>CreditScore</th>\n",
       "      <th>Geography</th>\n",
       "      <th>Gender</th>\n",
       "      <th>Age</th>\n",
       "      <th>Tenure</th>\n",
       "      <th>Balance</th>\n",
       "      <th>NumOfProducts</th>\n",
       "      <th>HasCrCard</th>\n",
       "      <th>IsActiveMember</th>\n",
       "      <th>EstimatedSalary</th>\n",
       "      <th>Exited</th>\n",
       "    </tr>\n",
       "  </thead>\n",
       "  <tbody>\n",
       "    <tr>\n",
       "      <th>1582</th>\n",
       "      <td>1583</td>\n",
       "      <td>15631072</td>\n",
       "      <td>Huie</td>\n",
       "      <td>690</td>\n",
       "      <td>France</td>\n",
       "      <td>Male</td>\n",
       "      <td>38</td>\n",
       "      <td>NaN</td>\n",
       "      <td>94456.00</td>\n",
       "      <td>2</td>\n",
       "      <td>0</td>\n",
       "      <td>1</td>\n",
       "      <td>55034.02</td>\n",
       "      <td>0</td>\n",
       "    </tr>\n",
       "    <tr>\n",
       "      <th>935</th>\n",
       "      <td>936</td>\n",
       "      <td>15675316</td>\n",
       "      <td>Avdeeva</td>\n",
       "      <td>619</td>\n",
       "      <td>France</td>\n",
       "      <td>Female</td>\n",
       "      <td>38</td>\n",
       "      <td>NaN</td>\n",
       "      <td>0.00</td>\n",
       "      <td>2</td>\n",
       "      <td>0</td>\n",
       "      <td>1</td>\n",
       "      <td>116467.35</td>\n",
       "      <td>0</td>\n",
       "    </tr>\n",
       "    <tr>\n",
       "      <th>542</th>\n",
       "      <td>543</td>\n",
       "      <td>15776223</td>\n",
       "      <td>Davide</td>\n",
       "      <td>597</td>\n",
       "      <td>France</td>\n",
       "      <td>Female</td>\n",
       "      <td>42</td>\n",
       "      <td>NaN</td>\n",
       "      <td>64740.12</td>\n",
       "      <td>1</td>\n",
       "      <td>1</td>\n",
       "      <td>1</td>\n",
       "      <td>106841.12</td>\n",
       "      <td>0</td>\n",
       "    </tr>\n",
       "    <tr>\n",
       "      <th>7274</th>\n",
       "      <td>7275</td>\n",
       "      <td>15680901</td>\n",
       "      <td>Potter</td>\n",
       "      <td>652</td>\n",
       "      <td>France</td>\n",
       "      <td>Female</td>\n",
       "      <td>34</td>\n",
       "      <td>NaN</td>\n",
       "      <td>97435.85</td>\n",
       "      <td>2</td>\n",
       "      <td>1</td>\n",
       "      <td>1</td>\n",
       "      <td>104331.76</td>\n",
       "      <td>0</td>\n",
       "    </tr>\n",
       "    <tr>\n",
       "      <th>6484</th>\n",
       "      <td>6485</td>\n",
       "      <td>15668629</td>\n",
       "      <td>Saunders</td>\n",
       "      <td>719</td>\n",
       "      <td>Spain</td>\n",
       "      <td>Male</td>\n",
       "      <td>44</td>\n",
       "      <td>NaN</td>\n",
       "      <td>0.00</td>\n",
       "      <td>2</td>\n",
       "      <td>1</td>\n",
       "      <td>0</td>\n",
       "      <td>196582.19</td>\n",
       "      <td>0</td>\n",
       "    </tr>\n",
       "    <tr>\n",
       "      <th>6732</th>\n",
       "      <td>6733</td>\n",
       "      <td>15718588</td>\n",
       "      <td>Meng</td>\n",
       "      <td>548</td>\n",
       "      <td>France</td>\n",
       "      <td>Female</td>\n",
       "      <td>37</td>\n",
       "      <td>NaN</td>\n",
       "      <td>0.00</td>\n",
       "      <td>2</td>\n",
       "      <td>0</td>\n",
       "      <td>0</td>\n",
       "      <td>98029.58</td>\n",
       "      <td>0</td>\n",
       "    </tr>\n",
       "    <tr>\n",
       "      <th>9417</th>\n",
       "      <td>9418</td>\n",
       "      <td>15656829</td>\n",
       "      <td>Hughes</td>\n",
       "      <td>577</td>\n",
       "      <td>Spain</td>\n",
       "      <td>Female</td>\n",
       "      <td>33</td>\n",
       "      <td>NaN</td>\n",
       "      <td>0.00</td>\n",
       "      <td>2</td>\n",
       "      <td>1</td>\n",
       "      <td>0</td>\n",
       "      <td>57975.80</td>\n",
       "      <td>0</td>\n",
       "    </tr>\n",
       "    <tr>\n",
       "      <th>3574</th>\n",
       "      <td>3575</td>\n",
       "      <td>15683375</td>\n",
       "      <td>Compton</td>\n",
       "      <td>541</td>\n",
       "      <td>France</td>\n",
       "      <td>Female</td>\n",
       "      <td>32</td>\n",
       "      <td>NaN</td>\n",
       "      <td>0.00</td>\n",
       "      <td>1</td>\n",
       "      <td>1</td>\n",
       "      <td>1</td>\n",
       "      <td>114951.42</td>\n",
       "      <td>0</td>\n",
       "    </tr>\n",
       "    <tr>\n",
       "      <th>5449</th>\n",
       "      <td>5450</td>\n",
       "      <td>15592028</td>\n",
       "      <td>Roberts</td>\n",
       "      <td>549</td>\n",
       "      <td>France</td>\n",
       "      <td>Female</td>\n",
       "      <td>46</td>\n",
       "      <td>NaN</td>\n",
       "      <td>0.00</td>\n",
       "      <td>1</td>\n",
       "      <td>1</td>\n",
       "      <td>1</td>\n",
       "      <td>109057.56</td>\n",
       "      <td>0</td>\n",
       "    </tr>\n",
       "    <tr>\n",
       "      <th>7846</th>\n",
       "      <td>7847</td>\n",
       "      <td>15755416</td>\n",
       "      <td>Hart</td>\n",
       "      <td>557</td>\n",
       "      <td>France</td>\n",
       "      <td>Female</td>\n",
       "      <td>27</td>\n",
       "      <td>NaN</td>\n",
       "      <td>87739.08</td>\n",
       "      <td>1</td>\n",
       "      <td>1</td>\n",
       "      <td>1</td>\n",
       "      <td>123096.56</td>\n",
       "      <td>0</td>\n",
       "    </tr>\n",
       "  </tbody>\n",
       "</table>\n",
       "</div>"
      ],
      "text/plain": [
       "      RowNumber  CustomerId   Surname  CreditScore Geography  Gender  Age  \\\n",
       "1582       1583    15631072      Huie          690    France    Male   38   \n",
       "935         936    15675316   Avdeeva          619    France  Female   38   \n",
       "542         543    15776223    Davide          597    France  Female   42   \n",
       "7274       7275    15680901    Potter          652    France  Female   34   \n",
       "6484       6485    15668629  Saunders          719     Spain    Male   44   \n",
       "6732       6733    15718588      Meng          548    France  Female   37   \n",
       "9417       9418    15656829    Hughes          577     Spain  Female   33   \n",
       "3574       3575    15683375   Compton          541    France  Female   32   \n",
       "5449       5450    15592028   Roberts          549    France  Female   46   \n",
       "7846       7847    15755416      Hart          557    France  Female   27   \n",
       "\n",
       "      Tenure   Balance  NumOfProducts  HasCrCard  IsActiveMember  \\\n",
       "1582     NaN  94456.00              2          0               1   \n",
       "935      NaN      0.00              2          0               1   \n",
       "542      NaN  64740.12              1          1               1   \n",
       "7274     NaN  97435.85              2          1               1   \n",
       "6484     NaN      0.00              2          1               0   \n",
       "6732     NaN      0.00              2          0               0   \n",
       "9417     NaN      0.00              2          1               0   \n",
       "3574     NaN      0.00              1          1               1   \n",
       "5449     NaN      0.00              1          1               1   \n",
       "7846     NaN  87739.08              1          1               1   \n",
       "\n",
       "      EstimatedSalary  Exited  \n",
       "1582         55034.02       0  \n",
       "935         116467.35       0  \n",
       "542         106841.12       0  \n",
       "7274        104331.76       0  \n",
       "6484        196582.19       0  \n",
       "6732         98029.58       0  \n",
       "9417         57975.80       0  \n",
       "3574        114951.42       0  \n",
       "5449        109057.56       0  \n",
       "7846        123096.56       0  "
      ]
     },
     "metadata": {},
     "output_type": "display_data"
    },
    {
     "data": {
      "text/html": [
       "<div>\n",
       "<style scoped>\n",
       "    .dataframe tbody tr th:only-of-type {\n",
       "        vertical-align: middle;\n",
       "    }\n",
       "\n",
       "    .dataframe tbody tr th {\n",
       "        vertical-align: top;\n",
       "    }\n",
       "\n",
       "    .dataframe thead th {\n",
       "        text-align: right;\n",
       "    }\n",
       "</style>\n",
       "<table border=\"1\" class=\"dataframe\">\n",
       "  <thead>\n",
       "    <tr style=\"text-align: right;\">\n",
       "      <th></th>\n",
       "      <th>RowNumber</th>\n",
       "      <th>CustomerId</th>\n",
       "      <th>Surname</th>\n",
       "      <th>CreditScore</th>\n",
       "      <th>Geography</th>\n",
       "      <th>Gender</th>\n",
       "      <th>Age</th>\n",
       "      <th>Tenure</th>\n",
       "      <th>Balance</th>\n",
       "      <th>NumOfProducts</th>\n",
       "      <th>HasCrCard</th>\n",
       "      <th>IsActiveMember</th>\n",
       "      <th>EstimatedSalary</th>\n",
       "      <th>Exited</th>\n",
       "    </tr>\n",
       "  </thead>\n",
       "  <tbody>\n",
       "    <tr>\n",
       "      <th>5432</th>\n",
       "      <td>5433</td>\n",
       "      <td>15616471</td>\n",
       "      <td>Milne</td>\n",
       "      <td>599</td>\n",
       "      <td>Spain</td>\n",
       "      <td>Male</td>\n",
       "      <td>51</td>\n",
       "      <td>0.0</td>\n",
       "      <td>0.00</td>\n",
       "      <td>1</td>\n",
       "      <td>1</td>\n",
       "      <td>1</td>\n",
       "      <td>175235.99</td>\n",
       "      <td>0</td>\n",
       "    </tr>\n",
       "    <tr>\n",
       "      <th>4532</th>\n",
       "      <td>4533</td>\n",
       "      <td>15739194</td>\n",
       "      <td>Manfrin</td>\n",
       "      <td>548</td>\n",
       "      <td>Spain</td>\n",
       "      <td>Male</td>\n",
       "      <td>38</td>\n",
       "      <td>0.0</td>\n",
       "      <td>178056.54</td>\n",
       "      <td>2</td>\n",
       "      <td>1</td>\n",
       "      <td>0</td>\n",
       "      <td>38434.73</td>\n",
       "      <td>0</td>\n",
       "    </tr>\n",
       "    <tr>\n",
       "      <th>2452</th>\n",
       "      <td>2453</td>\n",
       "      <td>15578825</td>\n",
       "      <td>Golubev</td>\n",
       "      <td>734</td>\n",
       "      <td>France</td>\n",
       "      <td>Female</td>\n",
       "      <td>29</td>\n",
       "      <td>0.0</td>\n",
       "      <td>139994.66</td>\n",
       "      <td>1</td>\n",
       "      <td>1</td>\n",
       "      <td>0</td>\n",
       "      <td>17744.72</td>\n",
       "      <td>0</td>\n",
       "    </tr>\n",
       "    <tr>\n",
       "      <th>8174</th>\n",
       "      <td>8175</td>\n",
       "      <td>15623525</td>\n",
       "      <td>Copeland</td>\n",
       "      <td>564</td>\n",
       "      <td>Spain</td>\n",
       "      <td>Male</td>\n",
       "      <td>31</td>\n",
       "      <td>0.0</td>\n",
       "      <td>125175.58</td>\n",
       "      <td>1</td>\n",
       "      <td>1</td>\n",
       "      <td>1</td>\n",
       "      <td>72757.33</td>\n",
       "      <td>0</td>\n",
       "    </tr>\n",
       "    <tr>\n",
       "      <th>2637</th>\n",
       "      <td>2638</td>\n",
       "      <td>15677435</td>\n",
       "      <td>Kazantseva</td>\n",
       "      <td>647</td>\n",
       "      <td>France</td>\n",
       "      <td>Female</td>\n",
       "      <td>29</td>\n",
       "      <td>0.0</td>\n",
       "      <td>98263.46</td>\n",
       "      <td>2</td>\n",
       "      <td>1</td>\n",
       "      <td>0</td>\n",
       "      <td>164717.95</td>\n",
       "      <td>0</td>\n",
       "    </tr>\n",
       "    <tr>\n",
       "      <th>6194</th>\n",
       "      <td>6195</td>\n",
       "      <td>15794273</td>\n",
       "      <td>Hand</td>\n",
       "      <td>604</td>\n",
       "      <td>France</td>\n",
       "      <td>Female</td>\n",
       "      <td>56</td>\n",
       "      <td>0.0</td>\n",
       "      <td>62732.65</td>\n",
       "      <td>1</td>\n",
       "      <td>0</td>\n",
       "      <td>1</td>\n",
       "      <td>124954.56</td>\n",
       "      <td>0</td>\n",
       "    </tr>\n",
       "    <tr>\n",
       "      <th>3614</th>\n",
       "      <td>3615</td>\n",
       "      <td>15747649</td>\n",
       "      <td>Summerville</td>\n",
       "      <td>558</td>\n",
       "      <td>Germany</td>\n",
       "      <td>Female</td>\n",
       "      <td>36</td>\n",
       "      <td>0.0</td>\n",
       "      <td>126606.63</td>\n",
       "      <td>2</td>\n",
       "      <td>1</td>\n",
       "      <td>1</td>\n",
       "      <td>172363.52</td>\n",
       "      <td>0</td>\n",
       "    </tr>\n",
       "    <tr>\n",
       "      <th>956</th>\n",
       "      <td>957</td>\n",
       "      <td>15631681</td>\n",
       "      <td>Jibunoh</td>\n",
       "      <td>807</td>\n",
       "      <td>Spain</td>\n",
       "      <td>Female</td>\n",
       "      <td>43</td>\n",
       "      <td>0.0</td>\n",
       "      <td>0.00</td>\n",
       "      <td>2</td>\n",
       "      <td>0</td>\n",
       "      <td>1</td>\n",
       "      <td>85523.24</td>\n",
       "      <td>0</td>\n",
       "    </tr>\n",
       "    <tr>\n",
       "      <th>7277</th>\n",
       "      <td>7278</td>\n",
       "      <td>15571284</td>\n",
       "      <td>Elmore</td>\n",
       "      <td>756</td>\n",
       "      <td>Germany</td>\n",
       "      <td>Male</td>\n",
       "      <td>32</td>\n",
       "      <td>0.0</td>\n",
       "      <td>109528.16</td>\n",
       "      <td>2</td>\n",
       "      <td>1</td>\n",
       "      <td>1</td>\n",
       "      <td>56176.31</td>\n",
       "      <td>0</td>\n",
       "    </tr>\n",
       "    <tr>\n",
       "      <th>7589</th>\n",
       "      <td>7590</td>\n",
       "      <td>15620832</td>\n",
       "      <td>Dean</td>\n",
       "      <td>723</td>\n",
       "      <td>France</td>\n",
       "      <td>Female</td>\n",
       "      <td>35</td>\n",
       "      <td>0.0</td>\n",
       "      <td>0.00</td>\n",
       "      <td>2</td>\n",
       "      <td>0</td>\n",
       "      <td>1</td>\n",
       "      <td>61290.99</td>\n",
       "      <td>0</td>\n",
       "    </tr>\n",
       "  </tbody>\n",
       "</table>\n",
       "</div>"
      ],
      "text/plain": [
       "      RowNumber  CustomerId      Surname  CreditScore Geography  Gender  Age  \\\n",
       "5432       5433    15616471        Milne          599     Spain    Male   51   \n",
       "4532       4533    15739194      Manfrin          548     Spain    Male   38   \n",
       "2452       2453    15578825      Golubev          734    France  Female   29   \n",
       "8174       8175    15623525     Copeland          564     Spain    Male   31   \n",
       "2637       2638    15677435   Kazantseva          647    France  Female   29   \n",
       "6194       6195    15794273         Hand          604    France  Female   56   \n",
       "3614       3615    15747649  Summerville          558   Germany  Female   36   \n",
       "956         957    15631681      Jibunoh          807     Spain  Female   43   \n",
       "7277       7278    15571284       Elmore          756   Germany    Male   32   \n",
       "7589       7590    15620832         Dean          723    France  Female   35   \n",
       "\n",
       "      Tenure    Balance  NumOfProducts  HasCrCard  IsActiveMember  \\\n",
       "5432     0.0       0.00              1          1               1   \n",
       "4532     0.0  178056.54              2          1               0   \n",
       "2452     0.0  139994.66              1          1               0   \n",
       "8174     0.0  125175.58              1          1               1   \n",
       "2637     0.0   98263.46              2          1               0   \n",
       "6194     0.0   62732.65              1          0               1   \n",
       "3614     0.0  126606.63              2          1               1   \n",
       "956      0.0       0.00              2          0               1   \n",
       "7277     0.0  109528.16              2          1               1   \n",
       "7589     0.0       0.00              2          0               1   \n",
       "\n",
       "      EstimatedSalary  Exited  \n",
       "5432        175235.99       0  \n",
       "4532         38434.73       0  \n",
       "2452         17744.72       0  \n",
       "8174         72757.33       0  \n",
       "2637        164717.95       0  \n",
       "6194        124954.56       0  \n",
       "3614        172363.52       0  \n",
       "956          85523.24       0  \n",
       "7277         56176.31       0  \n",
       "7589         61290.99       0  "
      ]
     },
     "metadata": {},
     "output_type": "display_data"
    }
   ],
   "source": [
    "data_na = data[data['Tenure'].isna()]\n",
    "display(data_na.sample(10))\n",
    "data_z = data[data['Tenure'] == 0]\n",
    "display(data_z.sample(10))"
   ]
  },
  {
   "cell_type": "markdown",
   "metadata": {},
   "source": [
    "It is not customers who have been at the bank for less than a year who have mising values for tenure. Since we have customers with tenure values that are listed as zero separately. We will convert the type after imputing and filling in values."
   ]
  },
  {
   "cell_type": "code",
   "execution_count": 4,
   "metadata": {},
   "outputs": [
    {
     "name": "stdout",
     "output_type": "stream",
     "text": [
      "<class 'pandas.core.frame.DataFrame'>\n",
      "RangeIndex: 10000 entries, 0 to 9999\n",
      "Data columns (total 14 columns):\n",
      " #   Column           Non-Null Count  Dtype  \n",
      "---  ------           --------------  -----  \n",
      " 0   rownumber        10000 non-null  int64  \n",
      " 1   customerid       10000 non-null  int64  \n",
      " 2   surname          10000 non-null  object \n",
      " 3   creditscore      10000 non-null  int64  \n",
      " 4   geography        10000 non-null  object \n",
      " 5   gender           10000 non-null  object \n",
      " 6   age              10000 non-null  int64  \n",
      " 7   tenure           9091 non-null   float64\n",
      " 8   balance          10000 non-null  float64\n",
      " 9   numofproducts    10000 non-null  int64  \n",
      " 10  hascrcard        10000 non-null  int64  \n",
      " 11  isactivemember   10000 non-null  int64  \n",
      " 12  estimatedsalary  10000 non-null  float64\n",
      " 13  exited           10000 non-null  int64  \n",
      "dtypes: float64(3), int64(8), object(3)\n",
      "memory usage: 1.1+ MB\n"
     ]
    },
    {
     "data": {
      "text/html": [
       "<div>\n",
       "<style scoped>\n",
       "    .dataframe tbody tr th:only-of-type {\n",
       "        vertical-align: middle;\n",
       "    }\n",
       "\n",
       "    .dataframe tbody tr th {\n",
       "        vertical-align: top;\n",
       "    }\n",
       "\n",
       "    .dataframe thead th {\n",
       "        text-align: right;\n",
       "    }\n",
       "</style>\n",
       "<table border=\"1\" class=\"dataframe\">\n",
       "  <thead>\n",
       "    <tr style=\"text-align: right;\">\n",
       "      <th></th>\n",
       "      <th>rownumber</th>\n",
       "      <th>customerid</th>\n",
       "      <th>surname</th>\n",
       "      <th>creditscore</th>\n",
       "      <th>geography</th>\n",
       "      <th>gender</th>\n",
       "      <th>age</th>\n",
       "      <th>tenure</th>\n",
       "      <th>balance</th>\n",
       "      <th>numofproducts</th>\n",
       "      <th>hascrcard</th>\n",
       "      <th>isactivemember</th>\n",
       "      <th>estimatedsalary</th>\n",
       "      <th>exited</th>\n",
       "    </tr>\n",
       "  </thead>\n",
       "  <tbody>\n",
       "    <tr>\n",
       "      <th>0</th>\n",
       "      <td>1</td>\n",
       "      <td>15634602</td>\n",
       "      <td>hargrave</td>\n",
       "      <td>619</td>\n",
       "      <td>france</td>\n",
       "      <td>female</td>\n",
       "      <td>42</td>\n",
       "      <td>2.0</td>\n",
       "      <td>0.00</td>\n",
       "      <td>1</td>\n",
       "      <td>1</td>\n",
       "      <td>1</td>\n",
       "      <td>101348.88</td>\n",
       "      <td>1</td>\n",
       "    </tr>\n",
       "    <tr>\n",
       "      <th>1</th>\n",
       "      <td>2</td>\n",
       "      <td>15647311</td>\n",
       "      <td>hill</td>\n",
       "      <td>608</td>\n",
       "      <td>spain</td>\n",
       "      <td>female</td>\n",
       "      <td>41</td>\n",
       "      <td>1.0</td>\n",
       "      <td>83807.86</td>\n",
       "      <td>1</td>\n",
       "      <td>0</td>\n",
       "      <td>1</td>\n",
       "      <td>112542.58</td>\n",
       "      <td>0</td>\n",
       "    </tr>\n",
       "    <tr>\n",
       "      <th>2</th>\n",
       "      <td>3</td>\n",
       "      <td>15619304</td>\n",
       "      <td>onio</td>\n",
       "      <td>502</td>\n",
       "      <td>france</td>\n",
       "      <td>female</td>\n",
       "      <td>42</td>\n",
       "      <td>8.0</td>\n",
       "      <td>159660.80</td>\n",
       "      <td>3</td>\n",
       "      <td>1</td>\n",
       "      <td>0</td>\n",
       "      <td>113931.57</td>\n",
       "      <td>1</td>\n",
       "    </tr>\n",
       "    <tr>\n",
       "      <th>3</th>\n",
       "      <td>4</td>\n",
       "      <td>15701354</td>\n",
       "      <td>boni</td>\n",
       "      <td>699</td>\n",
       "      <td>france</td>\n",
       "      <td>female</td>\n",
       "      <td>39</td>\n",
       "      <td>1.0</td>\n",
       "      <td>0.00</td>\n",
       "      <td>2</td>\n",
       "      <td>0</td>\n",
       "      <td>0</td>\n",
       "      <td>93826.63</td>\n",
       "      <td>0</td>\n",
       "    </tr>\n",
       "    <tr>\n",
       "      <th>4</th>\n",
       "      <td>5</td>\n",
       "      <td>15737888</td>\n",
       "      <td>mitchell</td>\n",
       "      <td>850</td>\n",
       "      <td>spain</td>\n",
       "      <td>female</td>\n",
       "      <td>43</td>\n",
       "      <td>2.0</td>\n",
       "      <td>125510.82</td>\n",
       "      <td>1</td>\n",
       "      <td>1</td>\n",
       "      <td>1</td>\n",
       "      <td>79084.10</td>\n",
       "      <td>0</td>\n",
       "    </tr>\n",
       "  </tbody>\n",
       "</table>\n",
       "</div>"
      ],
      "text/plain": [
       "   rownumber  customerid   surname  creditscore geography  gender  age  \\\n",
       "0          1    15634602  hargrave          619    france  female   42   \n",
       "1          2    15647311      hill          608     spain  female   41   \n",
       "2          3    15619304      onio          502    france  female   42   \n",
       "3          4    15701354      boni          699    france  female   39   \n",
       "4          5    15737888  mitchell          850     spain  female   43   \n",
       "\n",
       "   tenure    balance  numofproducts  hascrcard  isactivemember  \\\n",
       "0     2.0       0.00              1          1               1   \n",
       "1     1.0   83807.86              1          0               1   \n",
       "2     8.0  159660.80              3          1               0   \n",
       "3     1.0       0.00              2          0               0   \n",
       "4     2.0  125510.82              1          1               1   \n",
       "\n",
       "   estimatedsalary  exited  \n",
       "0        101348.88       1  \n",
       "1        112542.58       0  \n",
       "2        113931.57       1  \n",
       "3         93826.63       0  \n",
       "4         79084.10       0  "
      ]
     },
     "metadata": {},
     "output_type": "display_data"
    }
   ],
   "source": [
    "# transform all column names and object type columns to lowercase before proceeding with further processing\n",
    "data.columns = data.columns.str.lower()\n",
    "data['surname'] = data['surname'].str.lower()\n",
    "data['geography'] = data['geography'].str.lower()\n",
    "data['gender'] = data['gender'].str.lower()\n",
    "data.info()\n",
    "display(data.head())"
   ]
  },
  {
   "cell_type": "code",
   "execution_count": 5,
   "metadata": {},
   "outputs": [
    {
     "name": "stdout",
     "output_type": "stream",
     "text": [
      "0\n",
      "0\n"
     ]
    }
   ],
   "source": [
    "print(data.duplicated().sum())\n",
    "print(data['customerid'].duplicated().sum())"
   ]
  },
  {
   "cell_type": "markdown",
   "metadata": {},
   "source": [
    "There do not appear to be any duplicates rows or duplicated customer ids. We can proceed with filling in the null values with imputation. We will use the iterative imputer as there may be underlying feature dependencies that determine the tenure feature value."
   ]
  },
  {
   "cell_type": "code",
   "execution_count": 6,
   "metadata": {},
   "outputs": [
    {
     "name": "stdout",
     "output_type": "stream",
     "text": [
      "[IterativeImputer] Completing matrix with shape (10000, 8)\n",
      "[IterativeImputer] Change: 3.313333333333336, scaled tolerance: 2508.9809 \n",
      "[IterativeImputer] Early stopping criterion reached.\n",
      "<class 'pandas.core.frame.DataFrame'>\n",
      "RangeIndex: 10000 entries, 0 to 9999\n",
      "Data columns (total 14 columns):\n",
      " #   Column           Non-Null Count  Dtype  \n",
      "---  ------           --------------  -----  \n",
      " 0   rownumber        10000 non-null  int64  \n",
      " 1   customerid       10000 non-null  int64  \n",
      " 2   surname          10000 non-null  object \n",
      " 3   creditscore      10000 non-null  float64\n",
      " 4   geography        10000 non-null  object \n",
      " 5   gender           10000 non-null  object \n",
      " 6   age              10000 non-null  float64\n",
      " 7   tenure           10000 non-null  float64\n",
      " 8   balance          10000 non-null  float64\n",
      " 9   numofproducts    10000 non-null  float64\n",
      " 10  hascrcard        10000 non-null  float64\n",
      " 11  isactivemember   10000 non-null  float64\n",
      " 12  estimatedsalary  10000 non-null  float64\n",
      " 13  exited           10000 non-null  int64  \n",
      "dtypes: float64(8), int64(3), object(3)\n",
      "memory usage: 1.1+ MB\n"
     ]
    },
    {
     "data": {
      "text/html": [
       "<div>\n",
       "<style scoped>\n",
       "    .dataframe tbody tr th:only-of-type {\n",
       "        vertical-align: middle;\n",
       "    }\n",
       "\n",
       "    .dataframe tbody tr th {\n",
       "        vertical-align: top;\n",
       "    }\n",
       "\n",
       "    .dataframe thead th {\n",
       "        text-align: right;\n",
       "    }\n",
       "</style>\n",
       "<table border=\"1\" class=\"dataframe\">\n",
       "  <thead>\n",
       "    <tr style=\"text-align: right;\">\n",
       "      <th></th>\n",
       "      <th>rownumber</th>\n",
       "      <th>customerid</th>\n",
       "      <th>surname</th>\n",
       "      <th>creditscore</th>\n",
       "      <th>geography</th>\n",
       "      <th>gender</th>\n",
       "      <th>age</th>\n",
       "      <th>tenure</th>\n",
       "      <th>balance</th>\n",
       "      <th>numofproducts</th>\n",
       "      <th>hascrcard</th>\n",
       "      <th>isactivemember</th>\n",
       "      <th>estimatedsalary</th>\n",
       "      <th>exited</th>\n",
       "    </tr>\n",
       "  </thead>\n",
       "  <tbody>\n",
       "    <tr>\n",
       "      <th>4935</th>\n",
       "      <td>4936</td>\n",
       "      <td>15804862</td>\n",
       "      <td>toscani</td>\n",
       "      <td>505.0</td>\n",
       "      <td>germany</td>\n",
       "      <td>male</td>\n",
       "      <td>43.0</td>\n",
       "      <td>6.000000</td>\n",
       "      <td>127146.68</td>\n",
       "      <td>1.0</td>\n",
       "      <td>0.0</td>\n",
       "      <td>0.0</td>\n",
       "      <td>137565.87</td>\n",
       "      <td>0</td>\n",
       "    </tr>\n",
       "    <tr>\n",
       "      <th>2399</th>\n",
       "      <td>2400</td>\n",
       "      <td>15672516</td>\n",
       "      <td>wall</td>\n",
       "      <td>541.0</td>\n",
       "      <td>germany</td>\n",
       "      <td>male</td>\n",
       "      <td>51.0</td>\n",
       "      <td>7.000000</td>\n",
       "      <td>90373.28</td>\n",
       "      <td>2.0</td>\n",
       "      <td>1.0</td>\n",
       "      <td>0.0</td>\n",
       "      <td>179861.79</td>\n",
       "      <td>0</td>\n",
       "    </tr>\n",
       "    <tr>\n",
       "      <th>6552</th>\n",
       "      <td>6553</td>\n",
       "      <td>15636407</td>\n",
       "      <td>beatham</td>\n",
       "      <td>793.0</td>\n",
       "      <td>germany</td>\n",
       "      <td>female</td>\n",
       "      <td>34.0</td>\n",
       "      <td>4.925000</td>\n",
       "      <td>127758.09</td>\n",
       "      <td>1.0</td>\n",
       "      <td>1.0</td>\n",
       "      <td>0.0</td>\n",
       "      <td>143357.03</td>\n",
       "      <td>0</td>\n",
       "    </tr>\n",
       "    <tr>\n",
       "      <th>288</th>\n",
       "      <td>289</td>\n",
       "      <td>15727556</td>\n",
       "      <td>o'donnell</td>\n",
       "      <td>744.0</td>\n",
       "      <td>spain</td>\n",
       "      <td>female</td>\n",
       "      <td>26.0</td>\n",
       "      <td>5.000000</td>\n",
       "      <td>166297.89</td>\n",
       "      <td>1.0</td>\n",
       "      <td>1.0</td>\n",
       "      <td>1.0</td>\n",
       "      <td>181694.44</td>\n",
       "      <td>0</td>\n",
       "    </tr>\n",
       "    <tr>\n",
       "      <th>2784</th>\n",
       "      <td>2785</td>\n",
       "      <td>15642202</td>\n",
       "      <td>whitfield</td>\n",
       "      <td>821.0</td>\n",
       "      <td>germany</td>\n",
       "      <td>female</td>\n",
       "      <td>37.0</td>\n",
       "      <td>5.000000</td>\n",
       "      <td>106453.53</td>\n",
       "      <td>2.0</td>\n",
       "      <td>0.0</td>\n",
       "      <td>1.0</td>\n",
       "      <td>127413.00</td>\n",
       "      <td>0</td>\n",
       "    </tr>\n",
       "    <tr>\n",
       "      <th>4125</th>\n",
       "      <td>4126</td>\n",
       "      <td>15633378</td>\n",
       "      <td>davidson</td>\n",
       "      <td>692.0</td>\n",
       "      <td>spain</td>\n",
       "      <td>female</td>\n",
       "      <td>49.0</td>\n",
       "      <td>9.000000</td>\n",
       "      <td>0.00</td>\n",
       "      <td>2.0</td>\n",
       "      <td>1.0</td>\n",
       "      <td>0.0</td>\n",
       "      <td>178342.63</td>\n",
       "      <td>0</td>\n",
       "    </tr>\n",
       "    <tr>\n",
       "      <th>2546</th>\n",
       "      <td>2547</td>\n",
       "      <td>15755178</td>\n",
       "      <td>ramos</td>\n",
       "      <td>660.0</td>\n",
       "      <td>france</td>\n",
       "      <td>male</td>\n",
       "      <td>50.0</td>\n",
       "      <td>4.581667</td>\n",
       "      <td>0.00</td>\n",
       "      <td>3.0</td>\n",
       "      <td>1.0</td>\n",
       "      <td>1.0</td>\n",
       "      <td>191849.15</td>\n",
       "      <td>1</td>\n",
       "    </tr>\n",
       "    <tr>\n",
       "      <th>4171</th>\n",
       "      <td>4172</td>\n",
       "      <td>15748481</td>\n",
       "      <td>howey</td>\n",
       "      <td>564.0</td>\n",
       "      <td>france</td>\n",
       "      <td>female</td>\n",
       "      <td>27.0</td>\n",
       "      <td>6.000000</td>\n",
       "      <td>0.00</td>\n",
       "      <td>1.0</td>\n",
       "      <td>0.0</td>\n",
       "      <td>0.0</td>\n",
       "      <td>7819.76</td>\n",
       "      <td>0</td>\n",
       "    </tr>\n",
       "    <tr>\n",
       "      <th>6845</th>\n",
       "      <td>6846</td>\n",
       "      <td>15734085</td>\n",
       "      <td>crocker</td>\n",
       "      <td>465.0</td>\n",
       "      <td>germany</td>\n",
       "      <td>male</td>\n",
       "      <td>24.0</td>\n",
       "      <td>5.000000</td>\n",
       "      <td>117154.90</td>\n",
       "      <td>1.0</td>\n",
       "      <td>1.0</td>\n",
       "      <td>1.0</td>\n",
       "      <td>127744.02</td>\n",
       "      <td>0</td>\n",
       "    </tr>\n",
       "    <tr>\n",
       "      <th>57</th>\n",
       "      <td>58</td>\n",
       "      <td>15647091</td>\n",
       "      <td>endrizzi</td>\n",
       "      <td>725.0</td>\n",
       "      <td>germany</td>\n",
       "      <td>male</td>\n",
       "      <td>19.0</td>\n",
       "      <td>0.000000</td>\n",
       "      <td>75888.20</td>\n",
       "      <td>1.0</td>\n",
       "      <td>0.0</td>\n",
       "      <td>0.0</td>\n",
       "      <td>45613.75</td>\n",
       "      <td>0</td>\n",
       "    </tr>\n",
       "    <tr>\n",
       "      <th>8246</th>\n",
       "      <td>8247</td>\n",
       "      <td>15608726</td>\n",
       "      <td>miracle</td>\n",
       "      <td>663.0</td>\n",
       "      <td>france</td>\n",
       "      <td>male</td>\n",
       "      <td>24.0</td>\n",
       "      <td>7.000000</td>\n",
       "      <td>0.00</td>\n",
       "      <td>2.0</td>\n",
       "      <td>1.0</td>\n",
       "      <td>1.0</td>\n",
       "      <td>166310.82</td>\n",
       "      <td>0</td>\n",
       "    </tr>\n",
       "    <tr>\n",
       "      <th>9914</th>\n",
       "      <td>9915</td>\n",
       "      <td>15568876</td>\n",
       "      <td>hughes</td>\n",
       "      <td>496.0</td>\n",
       "      <td>france</td>\n",
       "      <td>female</td>\n",
       "      <td>34.0</td>\n",
       "      <td>6.486667</td>\n",
       "      <td>102723.35</td>\n",
       "      <td>2.0</td>\n",
       "      <td>1.0</td>\n",
       "      <td>0.0</td>\n",
       "      <td>180844.81</td>\n",
       "      <td>0</td>\n",
       "    </tr>\n",
       "    <tr>\n",
       "      <th>8733</th>\n",
       "      <td>8734</td>\n",
       "      <td>15714241</td>\n",
       "      <td>haddon</td>\n",
       "      <td>749.0</td>\n",
       "      <td>spain</td>\n",
       "      <td>male</td>\n",
       "      <td>42.0</td>\n",
       "      <td>9.000000</td>\n",
       "      <td>222267.63</td>\n",
       "      <td>1.0</td>\n",
       "      <td>0.0</td>\n",
       "      <td>0.0</td>\n",
       "      <td>101108.85</td>\n",
       "      <td>1</td>\n",
       "    </tr>\n",
       "    <tr>\n",
       "      <th>8048</th>\n",
       "      <td>8049</td>\n",
       "      <td>15595713</td>\n",
       "      <td>heller</td>\n",
       "      <td>548.0</td>\n",
       "      <td>spain</td>\n",
       "      <td>male</td>\n",
       "      <td>33.0</td>\n",
       "      <td>8.313333</td>\n",
       "      <td>0.00</td>\n",
       "      <td>1.0</td>\n",
       "      <td>1.0</td>\n",
       "      <td>1.0</td>\n",
       "      <td>31728.35</td>\n",
       "      <td>0</td>\n",
       "    </tr>\n",
       "    <tr>\n",
       "      <th>9474</th>\n",
       "      <td>9475</td>\n",
       "      <td>15631481</td>\n",
       "      <td>thomson</td>\n",
       "      <td>673.0</td>\n",
       "      <td>france</td>\n",
       "      <td>male</td>\n",
       "      <td>51.0</td>\n",
       "      <td>8.000000</td>\n",
       "      <td>79563.36</td>\n",
       "      <td>2.0</td>\n",
       "      <td>1.0</td>\n",
       "      <td>1.0</td>\n",
       "      <td>172200.91</td>\n",
       "      <td>0</td>\n",
       "    </tr>\n",
       "    <tr>\n",
       "      <th>3717</th>\n",
       "      <td>3718</td>\n",
       "      <td>15623536</td>\n",
       "      <td>madukwe</td>\n",
       "      <td>646.0</td>\n",
       "      <td>germany</td>\n",
       "      <td>male</td>\n",
       "      <td>39.0</td>\n",
       "      <td>0.000000</td>\n",
       "      <td>154439.86</td>\n",
       "      <td>1.0</td>\n",
       "      <td>1.0</td>\n",
       "      <td>0.0</td>\n",
       "      <td>171519.06</td>\n",
       "      <td>0</td>\n",
       "    </tr>\n",
       "    <tr>\n",
       "      <th>3083</th>\n",
       "      <td>3084</td>\n",
       "      <td>15814816</td>\n",
       "      <td>kambinachi</td>\n",
       "      <td>466.0</td>\n",
       "      <td>france</td>\n",
       "      <td>male</td>\n",
       "      <td>40.0</td>\n",
       "      <td>4.000000</td>\n",
       "      <td>91592.06</td>\n",
       "      <td>1.0</td>\n",
       "      <td>1.0</td>\n",
       "      <td>0.0</td>\n",
       "      <td>141210.18</td>\n",
       "      <td>1</td>\n",
       "    </tr>\n",
       "    <tr>\n",
       "      <th>2950</th>\n",
       "      <td>2951</td>\n",
       "      <td>15744919</td>\n",
       "      <td>genovese</td>\n",
       "      <td>734.0</td>\n",
       "      <td>spain</td>\n",
       "      <td>female</td>\n",
       "      <td>37.0</td>\n",
       "      <td>0.000000</td>\n",
       "      <td>152760.24</td>\n",
       "      <td>1.0</td>\n",
       "      <td>1.0</td>\n",
       "      <td>1.0</td>\n",
       "      <td>48990.50</td>\n",
       "      <td>0</td>\n",
       "    </tr>\n",
       "    <tr>\n",
       "      <th>8987</th>\n",
       "      <td>8988</td>\n",
       "      <td>15695932</td>\n",
       "      <td>yelverton</td>\n",
       "      <td>766.0</td>\n",
       "      <td>spain</td>\n",
       "      <td>male</td>\n",
       "      <td>36.0</td>\n",
       "      <td>5.000000</td>\n",
       "      <td>78381.13</td>\n",
       "      <td>1.0</td>\n",
       "      <td>0.0</td>\n",
       "      <td>1.0</td>\n",
       "      <td>153831.60</td>\n",
       "      <td>0</td>\n",
       "    </tr>\n",
       "    <tr>\n",
       "      <th>3319</th>\n",
       "      <td>3320</td>\n",
       "      <td>15567114</td>\n",
       "      <td>mcgarry</td>\n",
       "      <td>430.0</td>\n",
       "      <td>france</td>\n",
       "      <td>male</td>\n",
       "      <td>35.0</td>\n",
       "      <td>1.000000</td>\n",
       "      <td>118894.22</td>\n",
       "      <td>1.0</td>\n",
       "      <td>0.0</td>\n",
       "      <td>0.0</td>\n",
       "      <td>2923.61</td>\n",
       "      <td>0</td>\n",
       "    </tr>\n",
       "  </tbody>\n",
       "</table>\n",
       "</div>"
      ],
      "text/plain": [
       "      rownumber  customerid     surname  creditscore geography  gender   age  \\\n",
       "4935       4936    15804862     toscani        505.0   germany    male  43.0   \n",
       "2399       2400    15672516        wall        541.0   germany    male  51.0   \n",
       "6552       6553    15636407     beatham        793.0   germany  female  34.0   \n",
       "288         289    15727556   o'donnell        744.0     spain  female  26.0   \n",
       "2784       2785    15642202   whitfield        821.0   germany  female  37.0   \n",
       "4125       4126    15633378    davidson        692.0     spain  female  49.0   \n",
       "2546       2547    15755178       ramos        660.0    france    male  50.0   \n",
       "4171       4172    15748481       howey        564.0    france  female  27.0   \n",
       "6845       6846    15734085     crocker        465.0   germany    male  24.0   \n",
       "57           58    15647091    endrizzi        725.0   germany    male  19.0   \n",
       "8246       8247    15608726     miracle        663.0    france    male  24.0   \n",
       "9914       9915    15568876      hughes        496.0    france  female  34.0   \n",
       "8733       8734    15714241      haddon        749.0     spain    male  42.0   \n",
       "8048       8049    15595713      heller        548.0     spain    male  33.0   \n",
       "9474       9475    15631481     thomson        673.0    france    male  51.0   \n",
       "3717       3718    15623536     madukwe        646.0   germany    male  39.0   \n",
       "3083       3084    15814816  kambinachi        466.0    france    male  40.0   \n",
       "2950       2951    15744919    genovese        734.0     spain  female  37.0   \n",
       "8987       8988    15695932   yelverton        766.0     spain    male  36.0   \n",
       "3319       3320    15567114     mcgarry        430.0    france    male  35.0   \n",
       "\n",
       "        tenure    balance  numofproducts  hascrcard  isactivemember  \\\n",
       "4935  6.000000  127146.68            1.0        0.0             0.0   \n",
       "2399  7.000000   90373.28            2.0        1.0             0.0   \n",
       "6552  4.925000  127758.09            1.0        1.0             0.0   \n",
       "288   5.000000  166297.89            1.0        1.0             1.0   \n",
       "2784  5.000000  106453.53            2.0        0.0             1.0   \n",
       "4125  9.000000       0.00            2.0        1.0             0.0   \n",
       "2546  4.581667       0.00            3.0        1.0             1.0   \n",
       "4171  6.000000       0.00            1.0        0.0             0.0   \n",
       "6845  5.000000  117154.90            1.0        1.0             1.0   \n",
       "57    0.000000   75888.20            1.0        0.0             0.0   \n",
       "8246  7.000000       0.00            2.0        1.0             1.0   \n",
       "9914  6.486667  102723.35            2.0        1.0             0.0   \n",
       "8733  9.000000  222267.63            1.0        0.0             0.0   \n",
       "8048  8.313333       0.00            1.0        1.0             1.0   \n",
       "9474  8.000000   79563.36            2.0        1.0             1.0   \n",
       "3717  0.000000  154439.86            1.0        1.0             0.0   \n",
       "3083  4.000000   91592.06            1.0        1.0             0.0   \n",
       "2950  0.000000  152760.24            1.0        1.0             1.0   \n",
       "8987  5.000000   78381.13            1.0        0.0             1.0   \n",
       "3319  1.000000  118894.22            1.0        0.0             0.0   \n",
       "\n",
       "      estimatedsalary  exited  \n",
       "4935        137565.87       0  \n",
       "2399        179861.79       0  \n",
       "6552        143357.03       0  \n",
       "288         181694.44       0  \n",
       "2784        127413.00       0  \n",
       "4125        178342.63       0  \n",
       "2546        191849.15       1  \n",
       "4171          7819.76       0  \n",
       "6845        127744.02       0  \n",
       "57           45613.75       0  \n",
       "8246        166310.82       0  \n",
       "9914        180844.81       0  \n",
       "8733        101108.85       1  \n",
       "8048         31728.35       0  \n",
       "9474        172200.91       0  \n",
       "3717        171519.06       0  \n",
       "3083        141210.18       1  \n",
       "2950         48990.50       0  \n",
       "8987        153831.60       0  \n",
       "3319          2923.61       0  "
      ]
     },
     "execution_count": 6,
     "metadata": {},
     "output_type": "execute_result"
    }
   ],
   "source": [
    "iterative_imputer = IterativeImputer(estimator=ExtraTreesRegressor(n_estimators=100,\n",
    "                                                                   min_samples_leaf=1,\n",
    "                                                                   min_samples_split=4,\n",
    "                                                                   random_state=12345),\n",
    "                                     max_iter=20,\n",
    "                                     tol=1e-2,\n",
    "                                     initial_strategy='median',\n",
    "                                     verbose=True,\n",
    "                                     random_state=12345)\n",
    "imputed_data = iterative_imputer.fit_transform(data[['creditscore','age','isactivemember', 'estimatedsalary','tenure','numofproducts','hascrcard','balance']])\n",
    "data.loc[:,['creditscore','age','isactivemember', 'estimatedsalary','tenure','numofproducts','hascrcard','balance']] = imputed_data\n",
    "data.info()\n",
    "data.sample(20)"
   ]
  },
  {
   "cell_type": "code",
   "execution_count": 7,
   "metadata": {},
   "outputs": [
    {
     "name": "stdout",
     "output_type": "stream",
     "text": [
      "<class 'pandas.core.frame.DataFrame'>\n",
      "RangeIndex: 10000 entries, 0 to 9999\n",
      "Data columns (total 14 columns):\n",
      " #   Column           Non-Null Count  Dtype  \n",
      "---  ------           --------------  -----  \n",
      " 0   rownumber        10000 non-null  int64  \n",
      " 1   customerid       10000 non-null  int64  \n",
      " 2   surname          10000 non-null  object \n",
      " 3   creditscore      10000 non-null  float64\n",
      " 4   geography        10000 non-null  object \n",
      " 5   gender           10000 non-null  object \n",
      " 6   age              10000 non-null  float64\n",
      " 7   tenure           10000 non-null  int64  \n",
      " 8   balance          10000 non-null  float64\n",
      " 9   numofproducts    10000 non-null  float64\n",
      " 10  hascrcard        10000 non-null  float64\n",
      " 11  isactivemember   10000 non-null  float64\n",
      " 12  estimatedsalary  10000 non-null  float64\n",
      " 13  exited           10000 non-null  int64  \n",
      "dtypes: float64(7), int64(4), object(3)\n",
      "memory usage: 1.1+ MB\n"
     ]
    }
   ],
   "source": [
    "#convert tenure to type int\n",
    "data['tenure'] = data['tenure'].astype('int64')\n",
    "data.info()"
   ]
  },
  {
   "cell_type": "markdown",
   "metadata": {},
   "source": [
    "## Initial examination of the data\n",
    "\n",
    "Let us look at how the data is distributed and note down any characteristics that may influence machine learning outcomes."
   ]
  },
  {
   "cell_type": "code",
   "execution_count": 8,
   "metadata": {},
   "outputs": [
    {
     "data": {
      "image/png": "[encoded data removed]",
      "text/plain": [
       "<Figure size 640x480 with 1 Axes>"
      ]
     },
     "metadata": {},
     "output_type": "display_data"
    }
   ],
   "source": [
    "#looking at number of users per plan\n",
    "leavers = sns.countplot(x='exited', data=data)\n",
    "leavers.set_title('Customer Churn at Beta Bank')\n",
    "plt.show()"
   ]
  },
  {
   "cell_type": "markdown",
   "metadata": {},
   "source": [
    "There is clearly a class imbalance here with far for customers who are still bank customers represented in the data compared to those who left. The customers who left are a fourth of those who stayed."
   ]
  },
  {
   "cell_type": "code",
   "execution_count": 9,
   "metadata": {},
   "outputs": [
    {
     "data": {
      "image/png": "[encoded data removed]",
      "text/plain": [
       "<Figure size 640x480 with 1 Axes>"
      ]
     },
     "metadata": {},
     "output_type": "display_data"
    }
   ],
   "source": [
    "#looking at number of users per plan\n",
    "leavers = sns.countplot(x='gender', data=data)\n",
    "leavers.set_title('Customer gender distribution')\n",
    "plt.show()"
   ]
  },
  {
   "cell_type": "markdown",
   "metadata": {},
   "source": [
    "The gender distribution is fairly balanced, fewer women than men, but not by much."
   ]
  },
  {
   "cell_type": "code",
   "execution_count": 10,
   "metadata": {},
   "outputs": [
    {
     "data": {
      "image/png": "[encoded data removed]",
      "text/plain": [
       "<Figure size 640x480 with 1 Axes>"
      ]
     },
     "metadata": {},
     "output_type": "display_data"
    }
   ],
   "source": [
    "#histograms of salary\n",
    "sns.histplot(data=data['estimatedsalary'])\n",
    "plt.title('Customer salary distribution')\n",
    "plt.show()"
   ]
  },
  {
   "cell_type": "markdown",
   "metadata": {},
   "source": [
    "The salary ranges are fairly evenly distributed across salary ranges. It would be good to see if there is a difference by geography or gender."
   ]
  },
  {
   "cell_type": "code",
   "execution_count": 11,
   "metadata": {},
   "outputs": [
    {
     "data": {
      "text/html": [
       "<div>\n",
       "<style scoped>\n",
       "    .dataframe tbody tr th:only-of-type {\n",
       "        vertical-align: middle;\n",
       "    }\n",
       "\n",
       "    .dataframe tbody tr th {\n",
       "        vertical-align: top;\n",
       "    }\n",
       "\n",
       "    .dataframe thead th {\n",
       "        text-align: right;\n",
       "    }\n",
       "</style>\n",
       "<table border=\"1\" class=\"dataframe\">\n",
       "  <thead>\n",
       "    <tr style=\"text-align: right;\">\n",
       "      <th></th>\n",
       "      <th>gender</th>\n",
       "      <th>creditscore</th>\n",
       "      <th>age</th>\n",
       "      <th>isactivemember</th>\n",
       "      <th>estimatedsalary</th>\n",
       "      <th>tenure</th>\n",
       "      <th>numofproducts</th>\n",
       "      <th>hascrcard</th>\n",
       "      <th>balance</th>\n",
       "      <th>exited</th>\n",
       "    </tr>\n",
       "  </thead>\n",
       "  <tbody>\n",
       "    <tr>\n",
       "      <th>0</th>\n",
       "      <td>female</td>\n",
       "      <td>650.831389</td>\n",
       "      <td>39.238389</td>\n",
       "      <td>0.502751</td>\n",
       "      <td>100601.541382</td>\n",
       "      <td>4.919877</td>\n",
       "      <td>1.544134</td>\n",
       "      <td>0.702619</td>\n",
       "      <td>75659.369139</td>\n",
       "      <td>0.250715</td>\n",
       "    </tr>\n",
       "    <tr>\n",
       "      <th>1</th>\n",
       "      <td>male</td>\n",
       "      <td>650.276892</td>\n",
       "      <td>38.658237</td>\n",
       "      <td>0.525380</td>\n",
       "      <td>99664.576931</td>\n",
       "      <td>4.986256</td>\n",
       "      <td>1.518600</td>\n",
       "      <td>0.707898</td>\n",
       "      <td>77173.974506</td>\n",
       "      <td>0.164559</td>\n",
       "    </tr>\n",
       "  </tbody>\n",
       "</table>\n",
       "</div>"
      ],
      "text/plain": [
       "   gender  creditscore        age  isactivemember  estimatedsalary    tenure  \\\n",
       "0  female   650.831389  39.238389        0.502751    100601.541382  4.919877   \n",
       "1    male   650.276892  38.658237        0.525380     99664.576931  4.986256   \n",
       "\n",
       "   numofproducts  hascrcard       balance    exited  \n",
       "0       1.544134   0.702619  75659.369139  0.250715  \n",
       "1       1.518600   0.707898  77173.974506  0.164559  "
      ]
     },
     "execution_count": 11,
     "metadata": {},
     "output_type": "execute_result"
    }
   ],
   "source": [
    "data_geo = data.groupby('geography')[['creditscore','age','isactivemember', 'estimatedsalary','tenure','numofproducts','hascrcard','balance','exited']].mean()\n",
    "data_gender = data.groupby('gender')[['creditscore','age','isactivemember', 'estimatedsalary','tenure','numofproducts','hascrcard','balance','exited']].mean()\n",
    "data_geo.reset_index()\n",
    "data_gender.reset_index()"
   ]
  },
  {
   "cell_type": "code",
   "execution_count": 12,
   "metadata": {},
   "outputs": [
    {
     "data": {
      "image/png": "[encoded data removed]",
      "text/plain": [
       "<Figure size 640x480 with 1 Axes>"
      ]
     },
     "metadata": {},
     "output_type": "display_data"
    },
    {
     "data": {
      "image/png": "[encoded data removed]",
      "text/plain": [
       "<Figure size 640x480 with 1 Axes>"
      ]
     },
     "metadata": {},
     "output_type": "display_data"
    }
   ],
   "source": [
    "scaler = StandardScaler()\n",
    "scaler.fit(data_geo)\n",
    "data_geo_scaled = scaler.transform(data_geo)\n",
    "df_geo = pd.DataFrame(data_geo_scaled, index=data_geo.index, columns=data_geo.columns)\n",
    "df_geo.plot(kind='bar')\n",
    "plt.legend(bbox_to_anchor=(1.05, 1), loc='upper left', borderaxespad=0.)\n",
    "plt.title('Average User Profile by Geography')\n",
    "plt.ylabel('Banking Products')\n",
    "plt.xticks(rotation=0)\n",
    "plt.tight_layout()\n",
    "plt.show()\n",
    "scaler.fit(data_gender)\n",
    "data_gender_scaled = scaler.transform(data_gender)\n",
    "df_gender = pd.DataFrame(data_gender_scaled, index=data_gender.index, columns=data_gender.columns)\n",
    "df_gender.plot(kind='bar')\n",
    "plt.legend(bbox_to_anchor=(1.05, 1), loc='upper left', borderaxespad=0.)\n",
    "plt.title('Average User Profile by Gender')\n",
    "plt.ylabel('Banking Products')\n",
    "plt.xticks(rotation=0)\n",
    "plt.tight_layout()\n",
    "plt.show()"
   ]
  },
  {
   "cell_type": "markdown",
   "metadata": {},
   "source": [
    "We can see that there are different user profiles geographically and also by gender. \n",
    "The data has been scaled so what we see is a distribution about the mean which allows for easier comparison.\n",
    "\n",
    "**Geographic Distribution**\n",
    "\n",
    "German users are the most conservative using the least number of financial products and seem to leave the bank more frequenctly which is also borne out by their shorter tenures at the bank and their low activity. This is a concerning since these are high income customers with higher credit scores, who have a tendency to apply for credit cards, usually park larger amounts at the bank and are older, which would imply having a larger and more stable ivestmentment portfolio. Why does Beta bank struggle to retain customers in Germany?\n",
    "    France appears to home to a more loyal customer base but these appear to be young professionals, relatively early in their careers who are trying to build their credit scores. If Beta Bank has low barriers to access compared to the competitors it could explain the attractiveness. The question is do they migrate to other service providers once they have better credit? What can be done to encourage them to stay as they transtion to a more stable stage in their careers?\n",
    "    Spanish customers are more active users and open to trying more financial products and on average have better credit scores than their French counterparts. They are also on average older than their French counterparts but not by much.\n",
    "    \n",
    "**Gender Distribution**\n",
    "\n",
    "This distribution is quite interesting. The Male and Female profiles are near opposites.\n",
    "Women are more likely to leave Beta and which is borne out by the short tenures and the low activity and the lower likelihood of having a credit card with Beta and maintaining low balances. However, they are hughly desirable with their high credit scores, salaries, age(implying a more senior and stable stage in their career) and high use of financial products.\n",
    "The male customer base is the exact opposite.\n",
    "It is likely that women use Beta as a secondary account, perhaps because of their interest in particular financial products offered by Beta but are not strongly invested in this account. What could account for the lack of interest in Beta from women?\n",
    "\n",
    "## Training machine learning models\n",
    "\n",
    "Further processing of data before training the models\n",
    "OHE encoding of object classes. We would exclude customer ID and surname since any associations between these categories and the target are likely spurious.\n",
    "We will then use OHE on geography and gender before proceeding to spliting the training, test and validation data sets in the 3:1:1 ratio and scaling the numerical values.\n",
    "At first we will train models without taking the class imbalance into account and then we will use multiple methods to account for the class imbalance like adjusting parameters while training the model, upsampling and downsampling and then look at the outcomes."
   ]
  },
  {
   "cell_type": "code",
   "execution_count": 13,
   "metadata": {
    "scrolled": true
   },
   "outputs": [
    {
     "name": "stdout",
     "output_type": "stream",
     "text": [
      "<class 'pandas.core.frame.DataFrame'>\n",
      "RangeIndex: 10000 entries, 0 to 9999\n",
      "Data columns (total 12 columns):\n",
      " #   Column             Non-Null Count  Dtype  \n",
      "---  ------             --------------  -----  \n",
      " 0   creditscore        10000 non-null  float64\n",
      " 1   age                10000 non-null  float64\n",
      " 2   tenure             10000 non-null  int64  \n",
      " 3   balance            10000 non-null  float64\n",
      " 4   numofproducts      10000 non-null  float64\n",
      " 5   hascrcard          10000 non-null  float64\n",
      " 6   isactivemember     10000 non-null  float64\n",
      " 7   estimatedsalary    10000 non-null  float64\n",
      " 8   exited             10000 non-null  int64  \n",
      " 9   geography_germany  10000 non-null  uint8  \n",
      " 10  geography_spain    10000 non-null  uint8  \n",
      " 11  gender_male        10000 non-null  uint8  \n",
      "dtypes: float64(7), int64(2), uint8(3)\n",
      "memory usage: 732.5 KB\n"
     ]
    }
   ],
   "source": [
    "#removing non contributing columns\n",
    "data_mod = data.drop(columns=[ 'rownumber', 'customerid', 'surname'], axis=1)\n",
    "#dummies for gender\n",
    "data_ohe = pd.get_dummies(data_mod, drop_first=True)\n",
    "data_ohe.info()"
   ]
  },
  {
   "cell_type": "code",
   "execution_count": 14,
   "metadata": {},
   "outputs": [
    {
     "data": {
      "text/html": [
       "<div>\n",
       "<style scoped>\n",
       "    .dataframe tbody tr th:only-of-type {\n",
       "        vertical-align: middle;\n",
       "    }\n",
       "\n",
       "    .dataframe tbody tr th {\n",
       "        vertical-align: top;\n",
       "    }\n",
       "\n",
       "    .dataframe thead th {\n",
       "        text-align: right;\n",
       "    }\n",
       "</style>\n",
       "<table border=\"1\" class=\"dataframe\">\n",
       "  <thead>\n",
       "    <tr style=\"text-align: right;\">\n",
       "      <th></th>\n",
       "      <th>creditscore</th>\n",
       "      <th>age</th>\n",
       "      <th>tenure</th>\n",
       "      <th>balance</th>\n",
       "      <th>numofproducts</th>\n",
       "      <th>hascrcard</th>\n",
       "      <th>isactivemember</th>\n",
       "      <th>estimatedsalary</th>\n",
       "      <th>exited</th>\n",
       "      <th>geography_germany</th>\n",
       "      <th>geography_spain</th>\n",
       "      <th>gender_male</th>\n",
       "    </tr>\n",
       "  </thead>\n",
       "  <tbody>\n",
       "    <tr>\n",
       "      <th>5025</th>\n",
       "      <td>0.783897</td>\n",
       "      <td>-0.177288</td>\n",
       "      <td>-0.709181</td>\n",
       "      <td>0.737507</td>\n",
       "      <td>0.821312</td>\n",
       "      <td>0.0</td>\n",
       "      <td>0.0</td>\n",
       "      <td>0.126638</td>\n",
       "      <td>1</td>\n",
       "      <td>0</td>\n",
       "      <td>0</td>\n",
       "      <td>1</td>\n",
       "    </tr>\n",
       "    <tr>\n",
       "      <th>6659</th>\n",
       "      <td>0.165162</td>\n",
       "      <td>0.013248</td>\n",
       "      <td>-0.350159</td>\n",
       "      <td>0.050229</td>\n",
       "      <td>-0.896464</td>\n",
       "      <td>1.0</td>\n",
       "      <td>0.0</td>\n",
       "      <td>-1.065414</td>\n",
       "      <td>0</td>\n",
       "      <td>1</td>\n",
       "      <td>0</td>\n",
       "      <td>1</td>\n",
       "    </tr>\n",
       "    <tr>\n",
       "      <th>59</th>\n",
       "      <td>-0.391700</td>\n",
       "      <td>1.156465</td>\n",
       "      <td>-0.350159</td>\n",
       "      <td>-0.579498</td>\n",
       "      <td>-0.896464</td>\n",
       "      <td>1.0</td>\n",
       "      <td>1.0</td>\n",
       "      <td>-0.920844</td>\n",
       "      <td>0</td>\n",
       "      <td>0</td>\n",
       "      <td>0</td>\n",
       "      <td>1</td>\n",
       "    </tr>\n",
       "    <tr>\n",
       "      <th>2550</th>\n",
       "      <td>2.041993</td>\n",
       "      <td>0.299052</td>\n",
       "      <td>-1.786247</td>\n",
       "      <td>-1.232928</td>\n",
       "      <td>0.821312</td>\n",
       "      <td>1.0</td>\n",
       "      <td>0.0</td>\n",
       "      <td>-0.966247</td>\n",
       "      <td>0</td>\n",
       "      <td>0</td>\n",
       "      <td>0</td>\n",
       "      <td>1</td>\n",
       "    </tr>\n",
       "    <tr>\n",
       "      <th>2623</th>\n",
       "      <td>-1.412613</td>\n",
       "      <td>-1.034700</td>\n",
       "      <td>1.444952</td>\n",
       "      <td>-1.232928</td>\n",
       "      <td>0.821312</td>\n",
       "      <td>0.0</td>\n",
       "      <td>0.0</td>\n",
       "      <td>-0.096697</td>\n",
       "      <td>0</td>\n",
       "      <td>0</td>\n",
       "      <td>0</td>\n",
       "      <td>0</td>\n",
       "    </tr>\n",
       "    <tr>\n",
       "      <th>926</th>\n",
       "      <td>0.887020</td>\n",
       "      <td>-0.367824</td>\n",
       "      <td>-0.709181</td>\n",
       "      <td>-1.232928</td>\n",
       "      <td>-0.896464</td>\n",
       "      <td>1.0</td>\n",
       "      <td>1.0</td>\n",
       "      <td>-1.462392</td>\n",
       "      <td>0</td>\n",
       "      <td>0</td>\n",
       "      <td>1</td>\n",
       "      <td>1</td>\n",
       "    </tr>\n",
       "    <tr>\n",
       "      <th>6071</th>\n",
       "      <td>-0.278265</td>\n",
       "      <td>1.251733</td>\n",
       "      <td>1.085930</td>\n",
       "      <td>0.712967</td>\n",
       "      <td>-0.896464</td>\n",
       "      <td>1.0</td>\n",
       "      <td>0.0</td>\n",
       "      <td>-0.882339</td>\n",
       "      <td>0</td>\n",
       "      <td>0</td>\n",
       "      <td>1</td>\n",
       "      <td>1</td>\n",
       "    </tr>\n",
       "    <tr>\n",
       "      <th>6667</th>\n",
       "      <td>-0.309202</td>\n",
       "      <td>-1.225237</td>\n",
       "      <td>1.085930</td>\n",
       "      <td>-1.232928</td>\n",
       "      <td>0.821312</td>\n",
       "      <td>1.0</td>\n",
       "      <td>1.0</td>\n",
       "      <td>0.439606</td>\n",
       "      <td>0</td>\n",
       "      <td>0</td>\n",
       "      <td>1</td>\n",
       "      <td>0</td>\n",
       "    </tr>\n",
       "    <tr>\n",
       "      <th>825</th>\n",
       "      <td>-1.938538</td>\n",
       "      <td>-0.558360</td>\n",
       "      <td>1.085930</td>\n",
       "      <td>1.405540</td>\n",
       "      <td>0.821312</td>\n",
       "      <td>1.0</td>\n",
       "      <td>1.0</td>\n",
       "      <td>-1.670148</td>\n",
       "      <td>0</td>\n",
       "      <td>1</td>\n",
       "      <td>0</td>\n",
       "      <td>1</td>\n",
       "    </tr>\n",
       "    <tr>\n",
       "      <th>1469</th>\n",
       "      <td>1.722313</td>\n",
       "      <td>0.965929</td>\n",
       "      <td>-1.427225</td>\n",
       "      <td>0.704862</td>\n",
       "      <td>4.256863</td>\n",
       "      <td>0.0</td>\n",
       "      <td>0.0</td>\n",
       "      <td>1.156451</td>\n",
       "      <td>1</td>\n",
       "      <td>1</td>\n",
       "      <td>0</td>\n",
       "      <td>0</td>\n",
       "    </tr>\n",
       "  </tbody>\n",
       "</table>\n",
       "</div>"
      ],
      "text/plain": [
       "      creditscore       age    tenure   balance  numofproducts  hascrcard  \\\n",
       "5025     0.783897 -0.177288 -0.709181  0.737507       0.821312        0.0   \n",
       "6659     0.165162  0.013248 -0.350159  0.050229      -0.896464        1.0   \n",
       "59      -0.391700  1.156465 -0.350159 -0.579498      -0.896464        1.0   \n",
       "2550     2.041993  0.299052 -1.786247 -1.232928       0.821312        1.0   \n",
       "2623    -1.412613 -1.034700  1.444952 -1.232928       0.821312        0.0   \n",
       "926      0.887020 -0.367824 -0.709181 -1.232928      -0.896464        1.0   \n",
       "6071    -0.278265  1.251733  1.085930  0.712967      -0.896464        1.0   \n",
       "6667    -0.309202 -1.225237  1.085930 -1.232928       0.821312        1.0   \n",
       "825     -1.938538 -0.558360  1.085930  1.405540       0.821312        1.0   \n",
       "1469     1.722313  0.965929 -1.427225  0.704862       4.256863        0.0   \n",
       "\n",
       "      isactivemember  estimatedsalary  exited  geography_germany  \\\n",
       "5025             0.0         0.126638       1                  0   \n",
       "6659             0.0        -1.065414       0                  1   \n",
       "59               1.0        -0.920844       0                  0   \n",
       "2550             0.0        -0.966247       0                  0   \n",
       "2623             0.0        -0.096697       0                  0   \n",
       "926              1.0        -1.462392       0                  0   \n",
       "6071             0.0        -0.882339       0                  0   \n",
       "6667             1.0         0.439606       0                  0   \n",
       "825              1.0        -1.670148       0                  1   \n",
       "1469             0.0         1.156451       1                  1   \n",
       "\n",
       "      geography_spain  gender_male  \n",
       "5025                0            1  \n",
       "6659                0            1  \n",
       "59                  0            1  \n",
       "2550                0            1  \n",
       "2623                0            0  \n",
       "926                 1            1  \n",
       "6071                1            1  \n",
       "6667                1            0  \n",
       "825                 0            1  \n",
       "1469                0            0  "
      ]
     },
     "metadata": {},
     "output_type": "display_data"
    }
   ],
   "source": [
    "#split original data into train, validation and test data sets using the 3:1:1 distribution typically suggested in these cases\n",
    "#two rounds of splitting are required in this case\n",
    "df_main, df_test = train_test_split(data_ohe, test_size=0.20, random_state=12345)\n",
    "df_main = df_main.copy()\n",
    "df_test = df_test.copy()\n",
    "df_train, df_valid = train_test_split(df_main, test_size=0.20, random_state=12345)\n",
    "df_train = df_train.copy()\n",
    "df_valid = df_valid.copy()\n",
    "\n",
    "#preparing to scale numeric data by separating those column names\n",
    "numeric = ['creditscore', 'age', 'tenure', 'balance', 'numofproducts','estimatedsalary']\n",
    "#scaling data\n",
    "scaler_d = StandardScaler()\n",
    "scaler_d.fit(df_train[numeric])\n",
    "df_train.loc[:,numeric] = scaler_d.transform(df_train[numeric])\n",
    "df_valid.loc[:,numeric] = scaler_d.transform(df_valid[numeric])\n",
    "df_test.loc[:,numeric] = scaler_d.transform(df_test[numeric])\n",
    "display(df_train.sample(10))\n",
    "\n",
    "#separating features and target in each set\n",
    "features_train = df_train.drop(['exited'], axis=1)\n",
    "target_train = df_train['exited']\n",
    "features_valid = df_valid.drop(['exited'], axis=1)\n",
    "target_valid = df_valid['exited']\n",
    "features_test = df_test.drop(['exited'], axis=1)\n",
    "target_test = df_test['exited']"
   ]
  },
  {
   "cell_type": "code",
   "execution_count": 15,
   "metadata": {},
   "outputs": [
    {
     "name": "stdout",
     "output_type": "stream",
     "text": [
      "max_depth = 1 : f1 score : 0.0: train set score : 0.0\n",
      "max_depth = 2 : f1 score : 0.509: train set score : 0.509\n",
      "max_depth = 3 : f1 score : 0.392: train set score : 0.414\n",
      "max_depth = 4 : f1 score : 0.436: train set score : 0.45\n",
      "max_depth = 5 : f1 score : 0.564: train set score : 0.59\n",
      "max_depth = 6 : f1 score : 0.518: train set score : 0.559\n",
      "max_depth = 7 : f1 score : 0.554: train set score : 0.624\n",
      "max_depth = 8 : f1 score : 0.526: train set score : 0.666\n",
      "max_depth = 9 : f1 score : 0.523: train set score : 0.699\n"
     ]
    }
   ],
   "source": [
    "#Decision Tree Model 1 without taking into account class balance\n",
    "# create a loop for max_depth from 1 to 10\n",
    "for depth in range(1, 10):\n",
    "    model1 = DecisionTreeClassifier(random_state=12345, max_depth=depth)# assign depth based on loop parameters\n",
    "    model1.fit(features_train,target_train) #fit test set\n",
    "    prediction1 = model1.predict(features_valid) #predict target for validation set\n",
    "    prediction_tr1 = model1.predict(features_train)#predict target for training set\n",
    "    result1 = f1_score(target_valid, prediction1) #calculate the accuracy on validation set\n",
    "    result_tr1 = f1_score(target_train, prediction_tr1) #calculate the accuracy on training set\n",
    "    print(f'max_depth = {depth} : f1 score : {result1:0.3}: train set score : {result_tr1:0.3}')"
   ]
  },
  {
   "cell_type": "code",
   "execution_count": 16,
   "metadata": {},
   "outputs": [
    {
     "name": "stdout",
     "output_type": "stream",
     "text": [
      "f1 score of the best model on the validation set (n_estimators = 31):(depth:18): 0.5900990099009901:(train_f1 = 0.9903437620702975)\n"
     ]
    }
   ],
   "source": [
    "#Random Forest Model 2 without taking into account class balance\n",
    "best_score = 0\n",
    "best_est = 0\n",
    "best_depth = 0\n",
    "train_score = 0\n",
    "for est in range(21, 71):\n",
    "    for depth in range(1,21):# choose hyperparameter range\n",
    "        model2 = RandomForestClassifier(random_state=12345, n_estimators=est, max_depth=depth) # set number of trees and depth\n",
    "        model2.fit(features_train,target_train)# train model on training set\n",
    "        predict2 = model2.predict(features_valid) #predict target for validation set\n",
    "        predict_tr2 = model2.predict(features_train)#predict target for training set\n",
    "        score2 = f1_score(target_valid, predict2)# calculate accuracy score on validation set\n",
    "        score2_tr = f1_score(target_train, predict_tr2)# calculate accuracy score on test set\n",
    "        if score2 > best_score:\n",
    "            best_score = score2 # save best accuracy score on validation set\n",
    "            best_est = est\n",
    "            best_depth = depth # save number of estimators corresponding to best accuracy score\n",
    "            train_score = score2_tr\n",
    "\n",
    "print(\"f1 score of the best model on the validation set (n_estimators = {}):(depth:{}): {}:(train_f1 = {})\".format(best_est, best_depth, best_score, train_score))"
   ]
  },
  {
   "cell_type": "code",
   "execution_count": 17,
   "metadata": {},
   "outputs": [
    {
     "name": "stdout",
     "output_type": "stream",
     "text": [
      "F1 score of the logistic regression model on the training set: 0.3325892857142857\n",
      "F1 score of the logistic regression model on the validation set: 0.3145539906103286\n"
     ]
    }
   ],
   "source": [
    "# Initialize the logistic regression model without balance\n",
    "model3 = LogisticRegression(random_state=12345, solver='liblinear')\n",
    "\n",
    "# Train the model on the training set\n",
    "model3.fit(features_train, target_train)\n",
    "\n",
    "# Predict on training and validation sets\n",
    "predict_tr3 = model3.predict(features_train)\n",
    "predict3 = model3.predict(features_valid)\n",
    "\n",
    "# Calculate accuracy scores using the correct function\n",
    "score3_train = f1_score(target_train, predict_tr3)\n",
    "score3_valid = f1_score(target_valid, predict3)\n",
    "\n",
    "# Print results\n",
    "print(\"F1 score of the logistic regression model on the training set:\", score3_train)\n",
    "print(\"F1 score of the logistic regression model on the validation set:\", score3_valid)"
   ]
  },
  {
   "cell_type": "markdown",
   "metadata": {},
   "source": [
    "When we trained the three models without balancing the classes, the random forest comes closest to the desired F1 score of 0.59. After a depth of 5 with decision tree we see decreasing F1 scores on the validation set even though the training set score increases which is symptomatic of overfitting. With random forest even though we reach the desired score of 0.59 on the validation set, the training set with the same parameters has a score of almost 1, which is another case of likely overfitting of data to the training set. Finallyy with the logistic regression model the f1 scores are at 0.3 which is far below the requirement and indicates that the model is not able to recognize the class effectively.\n",
    "\n",
    "We will now proceed to use the hyperparameter class_weight and assign it the value balanced to see how it affects the models."
   ]
  },
  {
   "cell_type": "code",
   "execution_count": 18,
   "metadata": {},
   "outputs": [
    {
     "name": "stdout",
     "output_type": "stream",
     "text": [
      "max_depth = 1 : 0.471: train set score : 0.699\n",
      "max_depth = 2 : 0.501: train set score : 0.699\n",
      "max_depth = 3 : 0.501: train set score : 0.699\n",
      "max_depth = 4 : 0.525: train set score : 0.699\n",
      "max_depth = 5 : 0.545: train set score : 0.699\n",
      "max_depth = 6 : 0.559: train set score : 0.699\n",
      "max_depth = 7 : 0.548: train set score : 0.699\n",
      "max_depth = 8 : 0.545: train set score : 0.699\n",
      "max_depth = 9 : 0.532: train set score : 0.699\n"
     ]
    }
   ],
   "source": [
    "#Decision Tree Model 2 with balanced class weight\n",
    "# create a loop for max_depth from 1 to 10\n",
    "for depth in range(1, 10):\n",
    "    model1b = DecisionTreeClassifier(random_state=12345, max_depth=depth, class_weight='balanced')# assign depth based on loop parameters\n",
    "    model1b.fit(features_train,target_train) #fit test set\n",
    "    prediction1b = model1b.predict(features_valid) #predict target for validation set\n",
    "    prediction_tr1b = model1b.predict(features_train)#predict target for training set\n",
    "    result1b = f1_score(target_valid, prediction1b) #calculate the accuracy for validation set\n",
    "    result_tr1b = f1_score(target_train, prediction_tr1b) #calculate the accuracy on training set\n",
    "    print(f'max_depth = {depth} : {result1b:0.3}: train set score : {result_tr1:0.3}')"
   ]
  },
  {
   "cell_type": "code",
   "execution_count": 19,
   "metadata": {},
   "outputs": [
    {
     "name": "stdout",
     "output_type": "stream",
     "text": [
      "F1 score of the best model on the validation set (n_estimators = 86):(depth:9): 0.6110283159463488:(train_f1 = 0.7533856022808268)\n"
     ]
    }
   ],
   "source": [
    "#Random Forest Model 2 with balance\n",
    "best_score_b = 0\n",
    "best_est_b = 0\n",
    "best_depth_b = 0\n",
    "train_score_b = 0\n",
    "for est in range(21, 100):\n",
    "    for depth in range(1,21):# choose hyperparameter range\n",
    "        model2b = RandomForestClassifier(random_state=12345, n_estimators=est, max_depth=depth, class_weight='balanced') # set number of trees and depth\n",
    "        model2b.fit(features_train,target_train)# train model on training set\n",
    "        predict2b = model2b.predict(features_valid) #predict target for validation set\n",
    "        predict_tr2b = model2b.predict(features_train)#predict target for training set\n",
    "        score2b = f1_score(target_valid, predict2b)# calculate accuracy score on validation set\n",
    "        score2b_tr = f1_score(target_train, predict_tr2b)# calculate accuracy score on test set\n",
    "        if score2b > best_score_b:\n",
    "            best_score_b = score2b # save best accuracy score on validation set\n",
    "            best_est_b = est\n",
    "            best_depth_b = depth # save number of estimators corresponding to best accuracy score\n",
    "            train_score_b = score2b_tr\n",
    "\n",
    "print(\"F1 score of the best model on the validation set (n_estimators = {}):(depth:{}): {}:(train_f1 = {})\".format(best_est_b, best_depth_b, best_score_b, train_score_b))"
   ]
  },
  {
   "cell_type": "code",
   "execution_count": 20,
   "metadata": {},
   "outputs": [
    {
     "name": "stdout",
     "output_type": "stream",
     "text": [
      "F1 score of the balanced logistic regression model on the training set: 0.4955028618152084\n",
      "F1 score of the balanced logistic regression model on the validation set: 0.4697833523375142\n"
     ]
    }
   ],
   "source": [
    "# Logical Regression Model 3 with class balance\n",
    "model3b = LogisticRegression(\n",
    "    random_state=12345, solver='liblinear', class_weight='balanced'\n",
    ")\n",
    "\n",
    "# Train the model\n",
    "model3b.fit(features_train, target_train)\n",
    "\n",
    "# Predictions\n",
    "predict3b = model3b.predict(features_valid)\n",
    "predict_tr3b = model3b.predict(features_train)\n",
    "\n",
    "# Accuracy scores\n",
    "score3b_train = f1_score(target_train, predict_tr3b)\n",
    "score3b_valid = f1_score(target_valid, predict3b)\n",
    "\n",
    "# Output\n",
    "print(\"F1 score of the balanced logistic regression model on the training set:\", score3b_train)\n",
    "print(\"F1 score of the balanced logistic regression model on the validation set:\", score3b_valid)"
   ]
  },
  {
   "cell_type": "markdown",
   "metadata": {},
   "source": [
    "We see that the random forest is consistently the better model. However, there is an improvement in the F1 score after balancing the classes for random forest and logistic regression and less overfitting. There is not an improvement in the decision tree model. Let us now proceed to refine the random forest model further. We will try up and down-sampling to correct for class imbalance and see how this affects the outcome."
   ]
  },
  {
   "cell_type": "code",
   "execution_count": 21,
   "metadata": {},
   "outputs": [
    {
     "name": "stdout",
     "output_type": "stream",
     "text": [
      "F1 score of the best model on the validation set (n_estimators = 80):(depth:9): 0.6199376947040498:(train_f1 = 0.8394160583941607)\n"
     ]
    }
   ],
   "source": [
    "#upsampling\n",
    "features_train_zeros = features_train[target_train == 0]\n",
    "features__train_ones = features_train[target_train == 1]\n",
    "target_train_zeros = target_train[target_train == 0]\n",
    "target__train_ones = target_train[target_train == 1]\n",
    "features_upsampled = pd.concat([features_train_zeros] + [features__train_ones] * 3)\n",
    "target_upsampled = pd.concat([target_train_zeros] + [target__train_ones] * 3)\n",
    "features_upsampled, target_upsampled = shuffle(features_upsampled, target_upsampled, random_state=12345)\n",
    "#Random Forest Model with upsampling\n",
    "best_score_c = 0\n",
    "best_est_c = 0\n",
    "best_depth_c = 0\n",
    "train_score_c = 0\n",
    "for est in range(21, 100):\n",
    "    for depth in range(1,21):# choose hyperparameter range\n",
    "        model2c = RandomForestClassifier(random_state=12345, n_estimators=est, max_depth=depth) # set number of trees and depth\n",
    "        model2c.fit(features_upsampled,target_upsampled)# train model on training set\n",
    "        predict2c = model2c.predict(features_valid) #predict target for validation set\n",
    "        predict_tr2c = model2c.predict(features_upsampled)#predict target for training set\n",
    "        score2c = f1_score(target_valid, predict2c)# calculate accuracy score on validation set\n",
    "        score2c_tr = f1_score(target_upsampled, predict_tr2c)# calculate accuracy score on test set\n",
    "        if score2c > best_score_c:\n",
    "            best_score_c = score2c # save best accuracy score on validation set\n",
    "            best_est_c = est\n",
    "            best_depth_c = depth # save number of estimators corresponding to best accuracy score\n",
    "            train_score_c = score2c_tr\n",
    "\n",
    "print(\"F1 score of the best model on the validation set (n_estimators = {}):(depth:{}): {}:(train_f1 = {})\".format(best_est_c, best_depth_c, best_score_c, train_score_c))"
   ]
  },
  {
   "cell_type": "code",
   "execution_count": 26,
   "metadata": {},
   "outputs": [
    {
     "name": "stdout",
     "output_type": "stream",
     "text": [
      "F1 score of the best model on the validation set (n_estimators = 23):(depth:9): 0.5772151898734177:(train_f1 = 0.8675834970530452)\n"
     ]
    }
   ],
   "source": [
    "#downsampling\n",
    "features_downsampled = pd.concat([features_train_zeros.sample(frac=0.25,random_state=12345)] + [features__train_ones])\n",
    "target_downsampled = pd.concat([target_train_zeros.sample(frac=0.25,random_state=12345)] + [target__train_ones])\n",
    "features_downsampled, target_downsampled = shuffle(features_downsampled, target_downsampled, random_state=12345)\n",
    "#Random Forest Model with downsampling\n",
    "best_score_d = 0\n",
    "best_est_d = 0\n",
    "best_depth_d = 0\n",
    "train_score_d = 0\n",
    "for est in range(21, 100):\n",
    "    for depth in range(1,21):# choose hyperparameter range\n",
    "        model2d = RandomForestClassifier(random_state=12345, n_estimators=est, max_depth=depth) # set number of trees and depth\n",
    "        model2d.fit(features_downsampled,target_downsampled)# train model on training set\n",
    "        predict2d = model2d.predict(features_valid) #predict target for validation set\n",
    "        predict_tr2d = model2d.predict(features_downsampled)#predict target for training set\n",
    "        score2d = f1_score(target_valid, predict2d)# calculate accuracy score on validation set\n",
    "        score2d_tr = f1_score(target_downsampled, predict_tr2d)# calculate accuracy score on test set\n",
    "        if score2d > best_score_d:\n",
    "            best_score_d = score2d # save best accuracy score on validation set\n",
    "            best_est_d = est\n",
    "            best_depth_d = depth # save number of estimators corresponding to best accuracy score\n",
    "            train_score_d = score2d_tr\n",
    "\n",
    "print(\"F1 score of the best model on the validation set (n_estimators = {}):(depth:{}): {}:(train_f1 = {})\".format(best_est_d, best_depth_d, best_score_d, train_score_d))"
   ]
  },
  {
   "cell_type": "code",
   "execution_count": 34,
   "metadata": {},
   "outputs": [
    {
     "name": "stdout",
     "output_type": "stream",
     "text": [
      "Best hyperparameters: {'max_depth': 19, 'n_estimators': 258}\n"
     ]
    }
   ],
   "source": [
    "#is it possible to achieve better accuracy still with random forest?\n",
    "param_dist = {'n_estimators': randint(50,500),\n",
    "              'max_depth': randint(1,20)}\n",
    "\n",
    "# Create a random forest classifier\n",
    "rfm = RandomForestClassifier(random_state=12345)\n",
    "\n",
    "# Use random search to find the best hyperparameters\n",
    "rand_search = RandomizedSearchCV(rfm, \n",
    "                                 param_distributions = param_dist, \n",
    "                                 n_iter=5, \n",
    "                                 cv=5)\n",
    "\n",
    "# Fit the random search object to the data\n",
    "rand_search.fit(features_upsampled, target_upsampled)\n",
    "\n",
    "# Create a variable for the best model\n",
    "best_rfm = rand_search.best_estimator_\n",
    "\n",
    "# Print the best hyperparameters\n",
    "print('Best hyperparameters:',  rand_search.best_params_)"
   ]
  },
  {
   "cell_type": "code",
   "execution_count": 35,
   "metadata": {},
   "outputs": [
    {
     "name": "stdout",
     "output_type": "stream",
     "text": [
      "Accuracy of selected model: 0.859375 F1 score of selected model: 0.597495527728086\n"
     ]
    }
   ],
   "source": [
    "#train final model on training set\n",
    "model = RandomForestClassifier(random_state=12345, n_estimators=258, max_depth=19)\n",
    "model.fit(features_upsampled,target_upsampled)\n",
    "prediction = model.predict(features_valid)\n",
    "accuracy_m = accuracy_score(target_valid, prediction)\n",
    "f1score_m = f1_score(target_valid,prediction)\n",
    "print(f\"Accuracy of selected model: {accuracy_m} F1 score of selected model: {f1score_m}\")"
   ]
  },
  {
   "cell_type": "code",
   "execution_count": 43,
   "metadata": {},
   "outputs": [
    {
     "name": "stdout",
     "output_type": "stream",
     "text": [
      "Best hyperparameters: {'max_depth': 20, 'n_estimators': 300}\n"
     ]
    }
   ],
   "source": [
    "#is it possible to achieve better accuracy still with random forest using grid search which is more exhaustive\n",
    "#the sample space is 10000 which can be considered relatively small so it is not a huge resource spend\n",
    "# Create a random forest classifier\n",
    "param_grid = {\n",
    "    'n_estimators': [80, 86, 250, 257, 258, 259, 260, 300],\n",
    "    'max_depth': [5, 8, 9, 10, 15, 18, 20]\n",
    "}\n",
    "rfm2 = RandomForestClassifier(random_state=12345)\n",
    "\n",
    "# Use random search to find the best hyperparameters\n",
    "rand_search2 = GridSearchCV(rfm2, \n",
    "                           param_grid, \n",
    "                           cv=5,\n",
    "                           scoring='f1',\n",
    "                           n_jobs=-1)\n",
    "\n",
    "# Fit the random search object to the data\n",
    "rand_search2.fit(features_upsampled, target_upsampled)\n",
    "\n",
    "# Create a variable for the best model\n",
    "best_rfm2 = rand_search2.best_estimator_\n",
    "\n",
    "# Print the best hyperparameters\n",
    "print('Best hyperparameters:',  rand_search2.best_params_)"
   ]
  },
  {
   "cell_type": "code",
   "execution_count": 44,
   "metadata": {},
   "outputs": [
    {
     "name": "stdout",
     "output_type": "stream",
     "text": [
      "Accuracy of selected model: 0.859375 F1 score of selected model: 0.597495527728086\n"
     ]
    }
   ],
   "source": [
    "#train model on training set\n",
    "model_grid = RandomForestClassifier(random_state=12345, n_estimators=300, max_depth=20)\n",
    "model_grid.fit(features_upsampled,target_upsampled)\n",
    "prediction_grid = model.predict(features_valid)\n",
    "accuracy_g = accuracy_score(target_valid, prediction_grid)\n",
    "f1score_g = f1_score(target_valid,prediction_grid)\n",
    "print(f\"Accuracy of selected model: {accuracy_g} F1 score of selected model: {f1score_g}\")"
   ]
  },
  {
   "cell_type": "markdown",
   "metadata": {},
   "source": [
    "The F1 score is best with upsampling and we will stay with this strategy for the final training model once we optimize all the parameters. We have also done a randomized search and grid search to find the best parameters. F1 score in this case still exceeds cutoff and there is no difference in the scores from the model optimized by grid or by random search. We will stay with the random search identified forest of 258 trees with a max depth of 19. After 258 trees, it is likely the differences are miniscule in the models accuracy and F1 score.\n",
    "\n",
    "### Sanity check\n",
    "\n",
    "Let us first look at baseline f1 score achieavable for this model."
   ]
  },
  {
   "cell_type": "code",
   "execution_count": 45,
   "metadata": {},
   "outputs": [
    {
     "name": "stdout",
     "output_type": "stream",
     "text": [
      "Baseline Accuracy: 0.811\n"
     ]
    }
   ],
   "source": [
    "from sklearn.dummy import DummyClassifier\n",
    "dummy_clf = DummyClassifier(strategy=\"most_frequent\")\n",
    "dummy_clf.fit(features_train, target_train)\n",
    "baseline_accuracy = dummy_clf.score(features_valid, target_valid)\n",
    "print(f\"Baseline Accuracy: {baseline_accuracy:0.3}\")"
   ]
  },
  {
   "cell_type": "markdown",
   "metadata": {},
   "source": [
    "The accuracy with the optimized model is better than baseline accuracy achievable but not by much."
   ]
  },
  {
   "cell_type": "code",
   "execution_count": 46,
   "metadata": {},
   "outputs": [
    {
     "name": "stdout",
     "output_type": "stream",
     "text": [
      "Feature ranking:\n",
      "1. feature age (0.24952940043145241)\n",
      "2. feature balance (0.143204174252217)\n",
      "3. feature estimatedsalary (0.13748884480315798)\n",
      "4. feature creditscore (0.1337543481569254)\n",
      "5. feature numofproducts (0.12671888536074222)\n",
      "6. feature tenure (0.07903523843258611)\n",
      "7. feature isactivemember (0.04231630967953766)\n",
      "8. feature geography_germany (0.03464158101609495)\n",
      "9. feature gender_male (0.020912109946054747)\n",
      "10. feature hascrcard (0.018165669203449097)\n",
      "11. feature geography_spain (0.014233438717782479)\n"
     ]
    }
   ],
   "source": [
    "importances = model.feature_importances_\n",
    "indices = np.argsort(importances)[::-1]\n",
    "features = features_train.columns\n",
    "print(\"Feature ranking:\")\n",
    "for f in range(features_train.shape[1]):\n",
    "    print(f\"{f + 1}. feature {features[indices[f]]} ({importances[indices[f]]})\")"
   ]
  },
  {
   "cell_type": "markdown",
   "metadata": {},
   "source": [
    "The features ranking are not intuitive based on earlier user profiles we generated. However, when there is no grouping by geography or gender, likely different dependencies emerge that are important for class identification. There appears to be a bias towards more continuous values like age, bank balance and salary as opposed to the more categorical like activity and geography. Let us try permutation importance."
   ]
  },
  {
   "cell_type": "code",
   "execution_count": 47,
   "metadata": {},
   "outputs": [
    {
     "name": "stdout",
     "output_type": "stream",
     "text": [
      "              feature  importance_mean  importance_std\n",
      "1                 age         0.203750        0.017521\n",
      "4       numofproducts         0.174293        0.009968\n",
      "6      isactivemember         0.082342        0.006554\n",
      "8   geography_germany         0.058491        0.011325\n",
      "3             balance         0.051778        0.016456\n",
      "0         creditscore         0.011488        0.008453\n",
      "10        gender_male         0.010629        0.006099\n",
      "9     geography_spain         0.006495        0.004778\n",
      "5           hascrcard         0.001960        0.009428\n",
      "2              tenure         0.001740        0.008134\n",
      "7     estimatedsalary        -0.002650        0.006266\n"
     ]
    }
   ],
   "source": [
    "from sklearn.inspection import permutation_importance\n",
    "# Calculate permutation importance\n",
    "result = permutation_importance(model, features_valid, target_valid, scoring='f1', n_repeats=10, random_state=12345)\n",
    "\n",
    "# Display results\n",
    "importance_df = pd.DataFrame({\n",
    "    'feature': features_valid.columns,\n",
    "    'importance_mean': result.importances_mean,\n",
    "    'importance_std': result.importances_std\n",
    "}).sort_values(by='importance_mean', ascending=False)\n",
    "\n",
    "print(importance_df)"
   ]
  },
  {
   "cell_type": "markdown",
   "metadata": {},
   "source": [
    "This appears less biased since we have a seeingly random distribution of categorical and continuous features represented in the rankings. Also, as we have observed earlier, higher activity, number of financial products, being from Germany etc. are likely determinants of whether a customer will leave or stay."
   ]
  },
  {
   "cell_type": "code",
   "execution_count": 49,
   "metadata": {},
   "outputs": [
    {
     "data": {
      "text/plain": [
       "<sklearn.metrics._plot.confusion_matrix.ConfusionMatrixDisplay at 0x7f7c97b1cd30>"
      ]
     },
     "execution_count": 49,
     "metadata": {},
     "output_type": "execute_result"
    },
    {
     "data": {
      "image/png": "[encoded data removed]",
      "text/plain": [
       "<Figure size 640x480 with 2 Axes>"
      ]
     },
     "metadata": {},
     "output_type": "display_data"
    }
   ],
   "source": [
    "from sklearn.metrics import confusion_matrix, ConfusionMatrixDisplay\n",
    "mod_pred_t = model.predict(features_valid)\n",
    "cm = confusion_matrix(target_valid, mod_pred_t)\n",
    "disp = ConfusionMatrixDisplay(confusion_matrix=cm, display_labels=model.classes_)\n",
    "disp.plot()"
   ]
  },
  {
   "cell_type": "markdown",
   "metadata": {},
   "source": [
    "There is an error rate of roughly 16% as seen from this matrix, roughly 1 in 6 predictions are likely to be false."
   ]
  },
  {
   "cell_type": "markdown",
   "metadata": {},
   "source": [
    "## Final model training on the training and validation set combined\n",
    "\n",
    "We will now train the final random forest model on the larger data set that contains training and validation sets and test the predictions on test."
   ]
  },
  {
   "cell_type": "code",
   "execution_count": 53,
   "metadata": {},
   "outputs": [
    {
     "name": "stdout",
     "output_type": "stream",
     "text": [
      "Accuracy of selected model: 0.852 F1 score of selected model: 0.6084656084656085\n"
     ]
    }
   ],
   "source": [
    "features_trainf = pd.concat([features_train, features_valid])\n",
    "target_trainf = pd.concat([target_train, target_valid])\n",
    "#upsampling\n",
    "features_main_zeros = features_trainf[target_trainf == 0]\n",
    "features_main_ones = features_trainf[target_trainf == 1]\n",
    "target_main_zeros = target_trainf[target_trainf == 0]\n",
    "target_main_ones = target_trainf[target_trainf == 1]\n",
    "features_m_upsampled = pd.concat([features_main_zeros] + [features_main_ones] * 3)\n",
    "target_m_upsampled = pd.concat([target_main_zeros] + [target_main_ones] * 3)\n",
    "features_m_upsampled, target_m_upsampled = shuffle(features_m_upsampled, target_m_upsampled, random_state=12345)\n",
    "#model training\n",
    "#train final model on main set\n",
    "model_f = RandomForestClassifier(random_state=12345, n_estimators=258, max_depth=19)\n",
    "model_f.fit(features_m_upsampled,target_m_upsampled)\n",
    "prediction_f = model_f.predict(features_test)\n",
    "accuracy_f = accuracy_score(target_test, prediction_f)\n",
    "f1score_f = f1_score(target_test,prediction_f)\n",
    "print(f\"Accuracy of selected model: {accuracy_f} F1 score of selected model: {f1score_f}\")"
   ]
  },
  {
   "cell_type": "code",
   "execution_count": 54,
   "metadata": {},
   "outputs": [
    {
     "data": {
      "image/png": "[encoded data removed]",
      "text/plain": [
       "<Figure size 640x480 with 1 Axes>"
      ]
     },
     "metadata": {},
     "output_type": "display_data"
    },
    {
     "name": "stdout",
     "output_type": "stream",
     "text": [
      "AUC-ROC metric for this model is:0.7378523116228035\n"
     ]
    }
   ],
   "source": [
    "from sklearn.metrics import roc_curve\n",
    "from sklearn.metrics import roc_auc_score\n",
    "# plot the curve\n",
    "fpr, tpr, thresholds = roc_curve(target_test, prediction_f)\n",
    "plt.figure()\n",
    "plt.plot(fpr,tpr)\n",
    "# ROC curve for random model (looks like a straight line)\n",
    "plt.plot([0, 1], [0, 1], linestyle='--')\n",
    "plt.ylim([0.0, 1.0])\n",
    "plt.xlim([0.0, 1.0])\n",
    "plt.xlabel('False Positive Rate')\n",
    "plt.ylabel('True Positive Rate')\n",
    "plt.title('ROC curve')\n",
    "plt.show()\n",
    "auc_roc = roc_auc_score(target_test, prediction_f)\n",
    "print(f\"AUC-ROC metric for this model is:{auc_roc}\")"
   ]
  },
  {
   "cell_type": "markdown",
   "metadata": {},
   "source": [
    "The area under the ROC curve is 0.7378 which is higher than the random model value of 0.5. The curve is not a smoothened curve but rather angled. There is a steep increase in True positives at lower values of false positives after which the false positive and true positive rates both gradually increase and approach one. This would likely mean that any further improvements in recall will lead to a loss in precision in this model. this largely agrees with the F1-score. The highest achievable F1 score has consistently hovered around 0.6 with further improvements in class recognition being hard to achieve."
   ]
  },
  {
   "cell_type": "markdown",
   "metadata": {},
   "source": [
    "# Conclusion\n",
    "\n",
    "In this project we have tried to identify the churn in customers for Beta Bank (the client). We looked ata a dataset that included data for 10000 customers. There were both categorical and continuous features in the dataset.\n",
    "After cleaning up the dataset, imputing the missing values in the tenure category using the iterative imputer, performing some preliminary analysis and removing uneccessary features, we set upon training the model.\n",
    "\n",
    "We noticed that there is a significant class imbalance with customers who have churned representing a very small fraction of the overall data. We also noticed that there were differences in the user profiles when grouped by georgaphical region or gender. This could be useful later when the model is sanity checked.\n",
    "\n",
    "We trained three different models, decision tree, random forest and logistic regression without taking the class imbalance into account and then later taking it into account by tuning the hyper parameter class weights.\n",
    "We then tried up and down sampling on the best identified model, the random forest. Upsampling gave us a better F1 score and accuracy and we decided to use this in future training.\n",
    "\n",
    "A random search and grid search with cv=5 and different ranges of number of trees and maximum depth was used to find the best hyper parameter results. The results were not significantly different. We finalized 258 trees at a max depth of 20 for our final model.\n",
    "\n",
    "Some basic sanity check measures were performed. The model did not perform significantly better than baseline when it came to accuracy and the importances rankings were biased towards continuous features. Permutation importance gave a less biased ranking that largely made sense based on our previous analysis of the data.\n",
    "With the confusion matrix we determined that the predictions were likely false 1 in 6 times or 16% of the predictions made by the model are likely false.\n",
    "\n",
    "Since the model met the F1 score criteria established earlier (>0.59) and had better than baseline accuracy and the features ranking largely agreed with our understanding of the data, we trained the final model with random forest classifier on the training and validation set combined and predicted the class for the test set. Accuracy and F1 scores were largely consistent with earlier values and the F1 score stayed above the required threshold of 0.59.\n",
    "\n",
    "When the ROC curve was plotted and the area under the curve calculated it was above the random model curve area at 0.7378. The curve was higher than the random model curve and this seemed to further indicate the model trained was a reasonable predictor of customer churn.\n",
    "\n",
    "If Beta Bank wishes to assume a less stringent criteria to ensure that all clients likely to leave are indentified, it is possible to tune the threshold further. However, a lot of false positives are likely in this scenario."
   ]
  }
 ],
 "metadata": {
  "ExecuteTimeLog": [
   {
    "duration": 2809,
    "start_time": "2025-04-30T08:55:05.534Z"
   },
   {
    "duration": 43,
    "start_time": "2025-04-30T08:56:49.592Z"
   },
   {
    "duration": 22,
    "start_time": "2025-04-30T09:10:40.353Z"
   },
   {
    "duration": 11,
    "start_time": "2025-04-30T09:12:05.553Z"
   },
   {
    "duration": 20,
    "start_time": "2025-04-30T09:12:20.422Z"
   },
   {
    "duration": 295,
    "start_time": "2025-04-30T09:13:26.467Z"
   },
   {
    "duration": 22,
    "start_time": "2025-04-30T09:13:39.160Z"
   },
   {
    "duration": 169,
    "start_time": "2025-04-30T10:49:34.813Z"
   },
   {
    "duration": 2791,
    "start_time": "2025-04-30T10:49:54.942Z"
   },
   {
    "duration": 47,
    "start_time": "2025-04-30T10:49:57.735Z"
   },
   {
    "duration": 23,
    "start_time": "2025-04-30T10:49:57.784Z"
   },
   {
    "duration": 9,
    "start_time": "2025-04-30T10:49:57.809Z"
   },
   {
    "duration": 19,
    "start_time": "2025-04-30T10:51:48.833Z"
   },
   {
    "duration": 24,
    "start_time": "2025-04-30T10:52:05.362Z"
   },
   {
    "duration": 255,
    "start_time": "2025-04-30T10:53:31.123Z"
   },
   {
    "duration": 597,
    "start_time": "2025-04-30T10:53:43.842Z"
   },
   {
    "duration": 23,
    "start_time": "2025-04-30T10:54:40.193Z"
   },
   {
    "duration": 15,
    "start_time": "2025-04-30T10:54:56.316Z"
   },
   {
    "duration": 11,
    "start_time": "2025-04-30T10:55:10.171Z"
   },
   {
    "duration": 11,
    "start_time": "2025-04-30T10:55:40.285Z"
   },
   {
    "duration": 10,
    "start_time": "2025-04-30T10:56:36.531Z"
   },
   {
    "duration": 9,
    "start_time": "2025-04-30T10:57:14.359Z"
   },
   {
    "duration": 16,
    "start_time": "2025-04-30T11:05:02.286Z"
   },
   {
    "duration": 16,
    "start_time": "2025-04-30T11:08:51.209Z"
   },
   {
    "duration": 17,
    "start_time": "2025-04-30T11:09:34.471Z"
   },
   {
    "duration": 15,
    "start_time": "2025-04-30T11:16:19.494Z"
   },
   {
    "duration": 9199,
    "start_time": "2025-04-30T11:17:35.184Z"
   },
   {
    "duration": 18,
    "start_time": "2025-04-30T11:18:11.140Z"
   },
   {
    "duration": 1498,
    "start_time": "2025-04-30T11:18:42.802Z"
   },
   {
    "duration": 1243,
    "start_time": "2025-04-30T11:18:44.303Z"
   },
   {
    "duration": 0,
    "start_time": "2025-04-30T11:18:45.548Z"
   },
   {
    "duration": 0,
    "start_time": "2025-04-30T11:18:45.550Z"
   },
   {
    "duration": 0,
    "start_time": "2025-04-30T11:18:45.551Z"
   },
   {
    "duration": 0,
    "start_time": "2025-04-30T11:18:45.553Z"
   },
   {
    "duration": 16,
    "start_time": "2025-04-30T11:19:06.315Z"
   },
   {
    "duration": 3,
    "start_time": "2025-04-30T11:22:33.236Z"
   },
   {
    "duration": 33442,
    "start_time": "2025-04-30T11:23:45.621Z"
   },
   {
    "duration": 3286,
    "start_time": "2025-04-30T11:25:12.832Z"
   },
   {
    "duration": 1256,
    "start_time": "2025-04-30T11:25:16.121Z"
   },
   {
    "duration": 0,
    "start_time": "2025-04-30T11:25:17.379Z"
   },
   {
    "duration": 0,
    "start_time": "2025-04-30T11:25:17.380Z"
   },
   {
    "duration": 0,
    "start_time": "2025-04-30T11:25:17.381Z"
   },
   {
    "duration": 0,
    "start_time": "2025-04-30T11:25:17.383Z"
   },
   {
    "duration": 3,
    "start_time": "2025-04-30T11:27:28.326Z"
   },
   {
    "duration": 93658,
    "start_time": "2025-04-30T11:28:16.236Z"
   },
   {
    "duration": 21,
    "start_time": "2025-04-30T11:31:29.085Z"
   },
   {
    "duration": 1342,
    "start_time": "2025-04-30T11:31:52.684Z"
   },
   {
    "duration": 0,
    "start_time": "2025-04-30T11:31:54.029Z"
   },
   {
    "duration": 0,
    "start_time": "2025-04-30T11:31:54.030Z"
   },
   {
    "duration": 0,
    "start_time": "2025-04-30T11:31:54.030Z"
   },
   {
    "duration": 0,
    "start_time": "2025-04-30T11:31:54.032Z"
   },
   {
    "duration": 15,
    "start_time": "2025-04-30T11:37:05.441Z"
   },
   {
    "duration": 5,
    "start_time": "2025-04-30T11:42:05.655Z"
   },
   {
    "duration": 40,
    "start_time": "2025-04-30T11:42:19.412Z"
   },
   {
    "duration": 28,
    "start_time": "2025-04-30T11:42:28.954Z"
   },
   {
    "duration": 24,
    "start_time": "2025-04-30T11:42:32.608Z"
   },
   {
    "duration": 10,
    "start_time": "2025-04-30T11:42:36.126Z"
   },
   {
    "duration": 4,
    "start_time": "2025-04-30T11:58:10.342Z"
   },
   {
    "duration": 7799,
    "start_time": "2025-04-30T12:06:25.885Z"
   },
   {
    "duration": 16,
    "start_time": "2025-04-30T12:14:15.895Z"
   },
   {
    "duration": 12,
    "start_time": "2025-04-30T12:14:35.246Z"
   },
   {
    "duration": 99,
    "start_time": "2025-04-30T12:19:02.036Z"
   },
   {
    "duration": 90,
    "start_time": "2025-04-30T12:19:18.507Z"
   },
   {
    "duration": 792,
    "start_time": "2025-04-30T12:22:08.741Z"
   },
   {
    "duration": 155,
    "start_time": "2025-04-30T12:24:06.837Z"
   },
   {
    "duration": 15,
    "start_time": "2025-04-30T12:26:39.476Z"
   },
   {
    "duration": 437,
    "start_time": "2025-04-30T12:26:47.845Z"
   },
   {
    "duration": 198,
    "start_time": "2025-04-30T12:26:58.619Z"
   },
   {
    "duration": 145,
    "start_time": "2025-04-30T12:27:19.627Z"
   },
   {
    "duration": 136,
    "start_time": "2025-04-30T12:28:12.212Z"
   },
   {
    "duration": 178,
    "start_time": "2025-04-30T12:34:05.628Z"
   },
   {
    "duration": 4,
    "start_time": "2025-04-30T12:35:59.727Z"
   },
   {
    "duration": 34,
    "start_time": "2025-04-30T12:36:32.415Z"
   },
   {
    "duration": 182,
    "start_time": "2025-04-30T12:37:19.325Z"
   },
   {
    "duration": 18,
    "start_time": "2025-04-30T12:37:58.680Z"
   },
   {
    "duration": 174,
    "start_time": "2025-04-30T12:38:57.467Z"
   },
   {
    "duration": 17,
    "start_time": "2025-04-30T12:39:03.896Z"
   },
   {
    "duration": 173,
    "start_time": "2025-04-30T12:42:09.059Z"
   },
   {
    "duration": 293,
    "start_time": "2025-04-30T12:43:41.203Z"
   },
   {
    "duration": 16,
    "start_time": "2025-04-30T12:45:23.878Z"
   },
   {
    "duration": 730,
    "start_time": "2025-04-30T12:46:34.769Z"
   },
   {
    "duration": 590,
    "start_time": "2025-04-30T12:47:09.281Z"
   },
   {
    "duration": 17,
    "start_time": "2025-04-30T12:55:19.465Z"
   },
   {
    "duration": 554,
    "start_time": "2025-04-30T12:55:22.657Z"
   },
   {
    "duration": 15,
    "start_time": "2025-04-30T13:28:38.728Z"
   },
   {
    "duration": 16,
    "start_time": "2025-04-30T13:29:09.229Z"
   },
   {
    "duration": 119,
    "start_time": "2025-04-30T13:31:02.860Z"
   },
   {
    "duration": 7,
    "start_time": "2025-04-30T13:37:55.686Z"
   },
   {
    "duration": 17,
    "start_time": "2025-04-30T13:38:23.130Z"
   },
   {
    "duration": 14,
    "start_time": "2025-04-30T13:58:47.159Z"
   },
   {
    "duration": 77,
    "start_time": "2025-04-30T13:59:10.669Z"
   },
   {
    "duration": 44,
    "start_time": "2025-04-30T13:59:43.330Z"
   },
   {
    "duration": 165,
    "start_time": "2025-04-30T14:03:09.829Z"
   },
   {
    "duration": 35,
    "start_time": "2025-04-30T14:04:36.718Z"
   },
   {
    "duration": 35,
    "start_time": "2025-04-30T14:06:31.117Z"
   },
   {
    "duration": 33,
    "start_time": "2025-04-30T14:06:48.374Z"
   },
   {
    "duration": 4,
    "start_time": "2025-04-30T14:09:33.199Z"
   },
   {
    "duration": 68,
    "start_time": "2025-04-30T14:10:25.682Z"
   },
   {
    "duration": 158,
    "start_time": "2025-04-30T14:10:46.469Z"
   },
   {
    "duration": 157,
    "start_time": "2025-04-30T14:13:41.396Z"
   },
   {
    "duration": 139761,
    "start_time": "2025-04-30T14:14:23.063Z"
   },
   {
    "duration": 244321,
    "start_time": "2025-04-30T14:18:08.987Z"
   },
   {
    "duration": 19,
    "start_time": "2025-04-30T14:29:04.213Z"
   },
   {
    "duration": 168,
    "start_time": "2025-04-30T14:37:29.976Z"
   },
   {
    "duration": 30223,
    "start_time": "2025-04-30T14:40:25.085Z"
   },
   {
    "duration": 239151,
    "start_time": "2025-04-30T14:41:14.501Z"
   },
   {
    "duration": 494061,
    "start_time": "2025-04-30T14:45:49.063Z"
   },
   {
    "duration": 22,
    "start_time": "2025-04-30T15:00:00.719Z"
   },
   {
    "duration": 3,
    "start_time": "2025-04-30T15:08:45.687Z"
   },
   {
    "duration": 8,
    "start_time": "2025-04-30T15:17:51.047Z"
   },
   {
    "duration": 238,
    "start_time": "2025-04-30T15:18:08.537Z"
   },
   {
    "duration": 652496,
    "start_time": "2025-04-30T15:18:55.617Z"
   },
   {
    "duration": 194,
    "start_time": "2025-04-30T18:12:51.680Z"
   },
   {
    "duration": 3077,
    "start_time": "2025-04-30T18:13:10.143Z"
   },
   {
    "duration": 98,
    "start_time": "2025-04-30T18:13:23.015Z"
   },
   {
    "duration": 1102,
    "start_time": "2025-04-30T18:13:32.785Z"
   },
   {
    "duration": 58,
    "start_time": "2025-04-30T18:13:33.891Z"
   },
   {
    "duration": 23,
    "start_time": "2025-04-30T18:13:33.952Z"
   },
   {
    "duration": 33,
    "start_time": "2025-04-30T18:13:33.978Z"
   },
   {
    "duration": 10,
    "start_time": "2025-04-30T18:13:34.033Z"
   },
   {
    "duration": 8186,
    "start_time": "2025-04-30T18:13:34.046Z"
   },
   {
    "duration": 11,
    "start_time": "2025-04-30T18:13:42.234Z"
   },
   {
    "duration": 127,
    "start_time": "2025-04-30T18:13:42.247Z"
   },
   {
    "duration": 114,
    "start_time": "2025-04-30T18:13:42.376Z"
   },
   {
    "duration": 197,
    "start_time": "2025-04-30T18:13:42.494Z"
   },
   {
    "duration": 17,
    "start_time": "2025-04-30T18:13:42.693Z"
   },
   {
    "duration": 597,
    "start_time": "2025-04-30T18:13:42.711Z"
   },
   {
    "duration": 25,
    "start_time": "2025-04-30T18:13:43.310Z"
   },
   {
    "duration": 48,
    "start_time": "2025-04-30T18:13:43.337Z"
   },
   {
    "duration": 223,
    "start_time": "2025-04-30T18:13:43.387Z"
   },
   {
    "duration": 245908,
    "start_time": "2025-04-30T18:13:43.612Z"
   },
   {
    "duration": 28,
    "start_time": "2025-04-30T18:17:49.522Z"
   },
   {
    "duration": 284,
    "start_time": "2025-04-30T18:17:49.552Z"
   },
   {
    "duration": 508699,
    "start_time": "2025-04-30T18:17:49.837Z"
   },
   {
    "duration": 20,
    "start_time": "2025-04-30T18:26:18.538Z"
   },
   {
    "duration": 662335,
    "start_time": "2025-04-30T18:26:18.560Z"
   },
   {
    "duration": 255,
    "start_time": "2025-04-30T18:37:20.897Z"
   },
   {
    "duration": 338,
    "start_time": "2025-04-30T18:39:41.359Z"
   },
   {
    "duration": 209,
    "start_time": "2025-04-30T18:40:58.638Z"
   },
   {
    "duration": 109,
    "start_time": "2025-04-30T18:41:55.623Z"
   },
   {
    "duration": 253336,
    "start_time": "2025-04-30T18:43:04.281Z"
   },
   {
    "duration": 15,
    "start_time": "2025-04-30T19:10:35.732Z"
   },
   {
    "duration": 5,
    "start_time": "2025-04-30T19:11:55.952Z"
   },
   {
    "duration": 5,
    "start_time": "2025-04-30T19:16:28.594Z"
   },
   {
    "duration": 39146,
    "start_time": "2025-04-30T19:24:06.471Z"
   },
   {
    "duration": 3325,
    "start_time": "2025-04-30T20:06:34.450Z"
   },
   {
    "duration": 5,
    "start_time": "2025-04-30T20:07:30.964Z"
   },
   {
    "duration": 4,
    "start_time": "2025-04-30T20:09:32.317Z"
   },
   {
    "duration": 17361,
    "start_time": "2025-04-30T20:24:18.801Z"
   },
   {
    "duration": 2028,
    "start_time": "2025-04-30T20:26:08.090Z"
   },
   {
    "duration": 21,
    "start_time": "2025-04-30T20:28:15.241Z"
   },
   {
    "duration": 163,
    "start_time": "2025-04-30T20:29:50.908Z"
   },
   {
    "duration": 116001,
    "start_time": "2025-04-30T20:34:58.663Z"
   },
   {
    "duration": 2359,
    "start_time": "2025-04-30T20:39:02.119Z"
   },
   {
    "duration": 6948614,
    "start_time": "2025-04-30T20:45:18.719Z"
   },
   {
    "duration": 29490,
    "start_time": "2025-04-30T22:42:17.658Z"
   },
   {
    "duration": 7,
    "start_time": "2025-04-30T22:46:46.283Z"
   },
   {
    "duration": 333658,
    "start_time": "2025-04-30T22:47:16.499Z"
   },
   {
    "duration": 2353,
    "start_time": "2025-04-30T23:01:38.019Z"
   },
   {
    "duration": 5,
    "start_time": "2025-04-30T23:02:46.464Z"
   },
   {
    "duration": 15,
    "start_time": "2025-04-30T23:04:38.460Z"
   },
   {
    "duration": 8252,
    "start_time": "2025-04-30T23:17:33.970Z"
   },
   {
    "duration": 142,
    "start_time": "2025-04-30T23:22:45.169Z"
   },
   {
    "duration": 193,
    "start_time": "2025-04-30T23:23:08.756Z"
   },
   {
    "duration": 258,
    "start_time": "2025-04-30T23:40:26.633Z"
   },
   {
    "duration": 26,
    "start_time": "2025-04-30T23:45:03.893Z"
   },
   {
    "duration": 645,
    "start_time": "2025-04-30T23:45:17.872Z"
   },
   {
    "duration": 2597,
    "start_time": "2025-04-30T23:46:35.859Z"
   },
   {
    "duration": 115,
    "start_time": "2025-04-30T23:51:55.247Z"
   }
  ],
  "kernelspec": {
   "display_name": "My Environment",
   "language": "python",
   "name": "myenv"
  },
  "language_info": {
   "codemirror_mode": {
    "name": "ipython",
    "version": 3
   },
   "file_extension": ".py",
   "mimetype": "text/x-python",
   "name": "python",
   "nbconvert_exporter": "python",
   "pygments_lexer": "ipython3",
   "version": "3.9.19"
  },
  "toc": {
   "base_numbering": 1,
   "nav_menu": {},
   "number_sections": true,
   "sideBar": true,
   "skip_h1_title": true,
   "title_cell": "Table of Contents",
   "title_sidebar": "Contents",
   "toc_cell": false,
   "toc_position": {},
   "toc_section_display": true,
   "toc_window_display": false
  }
 },
 "nbformat": 4,
 "nbformat_minor": 4
}
